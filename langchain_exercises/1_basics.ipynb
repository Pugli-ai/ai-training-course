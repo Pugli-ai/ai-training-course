{
 "cells": [
  {
   "cell_type": "markdown",
   "metadata": {},
   "source": [
    "### **Cos'è LangChain?**\n",
    "> LangChain è un framework per lo sviluppo di applicazioni che sfruttano modelli di linguaggio.\n",
    "\n",
    "**TLDR**: LangChain rende più semplici le parti complicate di utilizzo e costruzione di modelli di intelligenza artificiale. Ciò avviene in due modi:\n",
    "\n",
    "1. **Integration** - Importa dati esterni, come i filed, altre applicazioni o dati da API, ai tuoi modelli di linguaggio.\n",
    "2. **Agentività** - Consente ai modelli di linguaggio di interagire con l'ambiente prendendo decisioni e utilizzando tools esterni. Utilizza i modelli di linguaggio per aiutarti a decidere quale azione intraprendere successivamente.\n",
    "\n",
    "### **Perché LangChain?**\n",
    "1. **Components** - LangChain facilita la sostituzione e l'astrazione dei componenti necessari per lavorare con modelli di linguaggio.\n",
    "\n",
    "2. **Chain personalizzate** - LangChain fornisce supporto integrato per l'utilizzo e la personalizzazione di 'chain' - una serie di azioni concatenate.\n",
    "\n",
    "3. **Velocità 🚢** - Il team è incredibilmente veloce nel rilascio. Sarai sempre aggiornato sulle ultime funzionalità dei modelli di linguaggio.\n",
    "\n",
    "4. **Community 👥** - Supporto tramite Discord e comunità, incontri, hackathon, ecc.\n"
   ]
  },
  {
   "cell_type": "code",
   "execution_count": 1,
   "metadata": {},
   "outputs": [],
   "source": [
    "# Load .env file\n",
    "from dotenv import load_dotenv\n",
    "import os\n",
    "load_dotenv(dotenv_path=\"../.env\")\n",
    "OPENAI_API_KEY = os.getenv(\"OPENAI_API_KEY\")\n",
    "openai_api_key=OPENAI_API_KEY"
   ]
  },
  {
   "cell_type": "markdown",
   "metadata": {},
   "source": [
    "# Componenti LangChain\n",
    "\n",
    "## Schema di input\n",
    "### **Text**\n",
    "Il modo di interagire con i modelli utilizzando il linguaggio naturale\n"
   ]
  },
  {
   "cell_type": "code",
   "execution_count": 2,
   "metadata": {},
   "outputs": [],
   "source": [
    "# Possiamo lavorare con testi semplici\n",
    "my_text = \"Che giorno viene dopo Venerdì?\""
   ]
  },
  {
   "cell_type": "markdown",
   "metadata": {},
   "source": [
    "### **Chat Messages**\n",
    "Simili al testo, ma vengo associati con un tipo di messaggio (System, Human, AI)\n",
    "\n",
    "* **System** - Contesto di sfondo utile che indica all'AI cosa fare\n",
    "* **Human** - Messaggi che intendono rappresentare l'utente\n",
    "* **AI** - Messaggi che mostrano ciò a cui l'AI ha risposto\n",
    "\n",
    "Per ulteriori informazioni, consulta la [documentazione](https://platform.openai.com/docs/guides/chat/introduction) di OpenAI.\n"
   ]
  },
  {
   "cell_type": "code",
   "execution_count": 3,
   "metadata": {},
   "outputs": [],
   "source": [
    "from langchain.schema import HumanMessage, SystemMessage, AIMessage\n",
    "\n",
    "history = [\n",
    "    SystemMessage(content=\"You are an helpful chatbot that helps a user to remember the days of the week\"),\n",
    "    HumanMessage(content=my_text),\n",
    "]"
   ]
  },
  {
   "cell_type": "markdown",
   "metadata": {},
   "source": [
    "### **Documents**\n",
    "Un oggetto che contiene un stringa di testo e dei metadati (ulteriori informazioni su quel testo)"
   ]
  },
  {
   "cell_type": "code",
   "execution_count": 4,
   "metadata": {},
   "outputs": [
    {
     "data": {
      "text/plain": [
       "Document(page_content='Lorem ipsum dolor sit amet, consectetur adipiscing elit.', metadata={'id': 42, 'source': 'https://www.loremipsum.com', 'create_time': '2021-01-01 12:00:00'})"
      ]
     },
     "execution_count": 4,
     "metadata": {},
     "output_type": "execute_result"
    }
   ],
   "source": [
    "from langchain.schema import Document\n",
    "Document(page_content=\"Lorem ipsum dolor sit amet, consectetur adipiscing elit.\",\n",
    "         metadata={\n",
    "             'id' : 42,\n",
    "             'source' : \"https://www.loremipsum.com\",\n",
    "             'create_time' : \"2021-01-01 12:00:00\",\n",
    "         })"
   ]
  },
  {
   "cell_type": "markdown",
   "metadata": {},
   "source": [
    "## Models - The interface to the AI brains"
   ]
  },
  {
   "cell_type": "markdown",
   "metadata": {},
   "source": [
    "###  **Language Model**\n",
    "Un modello di linguaggio è un modello che prende in input una stringa di testo e restituisce una stringa di testo."
   ]
  },
  {
   "cell_type": "code",
   "execution_count": 5,
   "metadata": {},
   "outputs": [],
   "source": [
    "from langchain.llms import OpenAI\n",
    "\n",
    "llm = OpenAI(openai_api_key=openai_api_key)"
   ]
  },
  {
   "cell_type": "code",
   "execution_count": 6,
   "metadata": {},
   "outputs": [
    {
     "data": {
      "text/plain": [
       "'\\n\\nSabato.'"
      ]
     },
     "execution_count": 6,
     "metadata": {},
     "output_type": "execute_result"
    }
   ],
   "source": [
    "llm(my_text)"
   ]
  },
  {
   "cell_type": "markdown",
   "metadata": {},
   "source": [
    "### **Chat Model**\n",
    "Un modello di chat è un modello che prende in input una serie di messaggi e restituisce un messaggio di output"
   ]
  },
  {
   "cell_type": "code",
   "execution_count": 7,
   "metadata": {},
   "outputs": [],
   "source": [
    "from langchain.chat_models import ChatOpenAI\n",
    "\n",
    "chat = ChatOpenAI(temperature=1, openai_api_key=openai_api_key)"
   ]
  },
  {
   "cell_type": "code",
   "execution_count": 8,
   "metadata": {},
   "outputs": [
    {
     "data": {
      "text/plain": [
       "AIMessage(content='Dopo Venerdì viene Sabato.', additional_kwargs={}, example=False)"
      ]
     },
     "execution_count": 8,
     "metadata": {},
     "output_type": "execute_result"
    }
   ],
   "source": [
    "chat(history)"
   ]
  },
  {
   "cell_type": "markdown",
   "metadata": {},
   "source": [
    "### **Text Embedding Model**\n",
    "Un modello di embedding di testo è un modello che prende in input una stringa di testo e restituisce un vettore (una serie di numeri che rappresentano il significato semantico del testo).\n",
    "Principalmente utilizzato quando si confrontano due stringe di testo insieme.\n",
    "\n",
    "Vedi Word2Vec, sviluppata da Tomas Mikolov e il suo team presso Google nel 2013. [Paper](https://arxiv.org/pdf/1301.3781.pdf) e [video](https://www.youtube.com/watch?v=ERibwqs9p38).\n",
    "\n",
    "Esempio vicinanza semantica:\n",
    "![Word2Vec](../documents/Word-Vectors.webp)\n"
   ]
  },
  {
   "cell_type": "code",
   "execution_count": 9,
   "metadata": {},
   "outputs": [
    {
     "data": {
      "text/plain": [
       "[b'I',\n",
       " b\"'m\",\n",
       " b' playing',\n",
       " b' with',\n",
       " b' Transform',\n",
       " b'E',\n",
       " b'rs',\n",
       " b' models',\n",
       " b'.',\n",
       " b' They',\n",
       " b' are',\n",
       " b' so',\n",
       " b' cool',\n",
       " b' and',\n",
       " b' powerful',\n",
       " b'!']"
      ]
     },
     "execution_count": 9,
     "metadata": {},
     "output_type": "execute_result"
    }
   ],
   "source": [
    "import tiktoken\n",
    "\n",
    "encoding = tiktoken.get_encoding(\"cl100k_base\")\n",
    "\n",
    "text = \"I'm playing with TransformErs models. They are so cool and powerful!\"\n",
    "tokens_integer=encoding.encode(text)\n",
    "tokens_string = [encoding.decode_single_token_bytes(token) for token in tokens_integer]\n",
    "tokens_string"
   ]
  },
  {
   "cell_type": "markdown",
   "metadata": {},
   "source": [
    "OpenAI fornisce 3 tipi diversi di [modelli di embedding di testo](https://openai.com/blog/introducing-text-and-code-embeddings/):\n",
    "- Text similarity\n",
    "- Text search\n",
    "- Code search\n",
    "\n",
    "Recentemente sostiuti da uno all purpose: `text-embedding-ada-002`"
   ]
  },
  {
   "cell_type": "code",
   "execution_count": 10,
   "metadata": {},
   "outputs": [],
   "source": [
    "from langchain.embeddings import OpenAIEmbeddings\n",
    "\n",
    "embeddings = OpenAIEmbeddings(model='text-embedding-ada-002', openai_api_key=openai_api_key)"
   ]
  },
  {
   "cell_type": "code",
   "execution_count": 11,
   "metadata": {},
   "outputs": [],
   "source": [
    "text = \"Sono un appassionato di tecnologia e mi piace leggere libri di fantascienza.\""
   ]
  },
  {
   "cell_type": "code",
   "execution_count": 12,
   "metadata": {},
   "outputs": [
    {
     "name": "stdout",
     "output_type": "stream",
     "text": [
      "Your embedding is length 1536\n",
      "Here's a sample: [-0.005055488087236881, -0.003664463059976697, 0.0002449230814818293, -0.032967910170555115, -0.026031168177723885]...\n"
     ]
    }
   ],
   "source": [
    "text_embedding = embeddings.embed_query(text)\n",
    "print (f\"Your embedding is length {len(text_embedding)}\")\n",
    "print (f\"Here's a sample: {text_embedding[:5]}...\")"
   ]
  },
  {
   "cell_type": "markdown",
   "metadata": {},
   "source": [
    "Proviamo a vedere la distanza del testo tra altre due stringhe di testo:"
   ]
  },
  {
   "cell_type": "code",
   "execution_count": 13,
   "metadata": {},
   "outputs": [
    {
     "name": "stdout",
     "output_type": "stream",
     "text": [
      "Similarity between text and text_1: 0.8707046418153304\n",
      "Similarity between text and text_2: 0.7741436811379714\n"
     ]
    }
   ],
   "source": [
    "from scipy import spatial\n",
    "text_embedding_1 = embeddings.embed_query('Io amo i libri di Frank Herbert.')\n",
    "text_embedding_2 = embeddings.embed_query('Non riesco veramente a capire come installare Linux.')\n",
    "\n",
    "result_1 = 1 - spatial.distance.cosine(text_embedding, text_embedding_1)\n",
    "result_2 = 1 - spatial.distance.cosine(text_embedding, text_embedding_2)\n",
    "\n",
    "print (f\"Similarity between text and text_1: {result_1}\")\n",
    "print (f\"Similarity between text and text_2: {result_2}\")"
   ]
  },
  {
   "cell_type": "markdown",
   "metadata": {},
   "source": [
    "## Prompts - Testo utilizzato per dare istruzioni al tuo modello"
   ]
  },
  {
   "cell_type": "markdown",
   "metadata": {},
   "source": [
    "### **Prompt**\n",
    "Cosa dirai al tuo modello."
   ]
  },
  {
   "cell_type": "code",
   "execution_count": 14,
   "metadata": {},
   "outputs": [
    {
     "data": {
      "text/plain": [
       "'\\nIt should say \"Tomorrow is Tuesday.\"'"
      ]
     },
     "execution_count": 14,
     "metadata": {},
     "output_type": "execute_result"
    }
   ],
   "source": [
    "from langchain.llms import OpenAI\n",
    "\n",
    "llm = OpenAI( openai_api_key=openai_api_key)\n",
    "\n",
    "prompt = \"\"\"\n",
    "Today is Monday, tomorrow is Wednesday.\n",
    "\n",
    "What is wrong with that statement?\n",
    "\"\"\"\n",
    "\n",
    "llm(prompt)"
   ]
  },
  {
   "cell_type": "markdown",
   "metadata": {},
   "source": [
    "### **Prompt Template**\n",
    "Un oggetto che aiuta a creare prompt basati su una combinazione di input utente, altre informazioni non statiche e una stringa di modello fissa.\n",
    "\n",
    "Come se fosse una [f-string](https://realpython.com/python-f-strings/) in python ma per i prompt."
   ]
  },
  {
   "cell_type": "code",
   "execution_count": 15,
   "metadata": {},
   "outputs": [
    {
     "name": "stdout",
     "output_type": "stream",
     "text": [
      "Final Prompt: \n",
      "I really want to travel to Rome. What should I do there?\n",
      "\n",
      "Respond in one short sentence\n",
      "\n",
      "-----------\n",
      "LLM Output: Explore the Colosseum, the Pantheon, and the Roman Forum to experience the city's ancient history.\n"
     ]
    }
   ],
   "source": [
    "from langchain.llms import OpenAI\n",
    "from langchain import PromptTemplate\n",
    "\n",
    "llm = OpenAI(model_name=\"text-davinci-003\", openai_api_key=openai_api_key)\n",
    "\n",
    "# Notice \"location\" below, that is a placeholder for another value later\n",
    "template = \"\"\"\n",
    "I really want to travel to {location}. What should I do there?\n",
    "\n",
    "Respond in one short sentence\n",
    "\"\"\"\n",
    "\n",
    "prompt = PromptTemplate(\n",
    "    input_variables=[\"location\"],\n",
    "    template=template,\n",
    ")\n",
    "\n",
    "final_prompt = prompt.format(location='Rome')\n",
    "\n",
    "print (f\"Final Prompt: {final_prompt}\")\n",
    "print (\"-----------\")\n",
    "print (f\"LLM Output: {llm(final_prompt)}\")"
   ]
  },
  {
   "cell_type": "markdown",
   "metadata": {},
   "source": [
    "## Chains \n",
    "\n",
    "Un LLMChain è il tipo di catena più comune in LangChain. È composto da un PromptTemplate, un modello (LLM o ChatModel) e un parser di output opzionale. \n",
    "\n",
    "Cobinazione di diverse chiamate LLM e possibili azioni automatiche.\n",
    "\n",
    "Ex: Summary #1, Summary #2, Summary #3 > Final Summary\n",
    "\n",
    "Guarda [questo video](https://www.youtube.com/watch?v=f9_BWhCI4Zo&t=2s) che spiega i diversi tipi di summarization chains.\n",
    "\n",
    "Esistono diverse [tipi di chains](https://python.langchain.com/en/latest/modules/chains/how_to_guides.html), cerca di vedere quali sono le migliori per il tuo caso d'uso. \n",
    "\n",
    "Noi ne useremo due:"
   ]
  },
  {
   "cell_type": "markdown",
   "metadata": {},
   "source": [
    "### 1. Simple Sequential Chains\n",
    "\n",
    "Chains semplici in cui l'output di un LLM viene utilizzato come input in un altro. Ottimo per suddividere i compiti (e mantenere l' LLM focalizzato)."
   ]
  },
  {
   "cell_type": "code",
   "execution_count": 16,
   "metadata": {},
   "outputs": [],
   "source": [
    "from langchain.llms import OpenAI\n",
    "from langchain.chains import LLMChain\n",
    "from langchain.prompts import PromptTemplate\n",
    "from langchain.chains import SimpleSequentialChain\n",
    "\n",
    "llm = OpenAI(temperature=1, openai_api_key=openai_api_key)"
   ]
  },
  {
   "cell_type": "code",
   "execution_count": 17,
   "metadata": {},
   "outputs": [],
   "source": [
    "template = \"\"\"Your job is to come up with a classic dish from the area that the users suggests.\n",
    "% USER LOCATION\n",
    "{user_location}\n",
    "\n",
    "YOUR RESPONSE:\n",
    "\"\"\"\n",
    "prompt_template = PromptTemplate(input_variables=[\"user_location\"], template=template)\n",
    "\n",
    "# 'location' chain\n",
    "location_chain = LLMChain(llm=llm, prompt=prompt_template)"
   ]
  },
  {
   "cell_type": "code",
   "execution_count": 18,
   "metadata": {},
   "outputs": [
    {
     "data": {
      "text/plain": [
       "'Spaghetti alla Carbonara, a delicious pasta dish originating in Rome, Italy. It is made with spaghetti noodles, egg, guanciale (cured pork jowl), pecorino cheese, and pepper.'"
      ]
     },
     "execution_count": 18,
     "metadata": {},
     "output_type": "execute_result"
    }
   ],
   "source": [
    "# Proviamo la prima chain\n",
    "\n",
    "location_chain.run(\"Rome\")"
   ]
  },
  {
   "cell_type": "code",
   "execution_count": 19,
   "metadata": {},
   "outputs": [
    {
     "data": {
      "text/plain": [
       "[{'text': 'One classic dish from Paris is Coq au Vin, a French-style chicken, red wine, and mushroom dish.'},\n",
       " {'text': 'A classic dish from Berlin is the traditional Berliner Currywurst. It is a fast food dish made from a bratwurst sausage that is cut into pieces and served with curry ketchup.'},\n",
       " {'text': 'A classic dish from Lisbon would be bacalhau a bras, which is cod fish fried with potatoes, eggs, and onions.'}]"
      ]
     },
     "execution_count": 19,
     "metadata": {},
     "output_type": "execute_result"
    }
   ],
   "source": [
    "# Possibilità di fare batchin in input\n",
    "input_list = [\n",
    "    {\"user_location\": \"Paris\"},\n",
    "    {\"user_location\": \"Berlin\"},\n",
    "    {\"user_location\": \"Lisbon\"}\n",
    "]\n",
    "\n",
    "location_chain.apply(input_list)"
   ]
  },
  {
   "cell_type": "code",
   "execution_count": 20,
   "metadata": {},
   "outputs": [],
   "source": [
    "# Seconda chain\n",
    "\n",
    "template = \"\"\"Given a meal, give a short and simple recipe on how to make that dish at home.\n",
    "% MEAL\n",
    "{user_meal}\n",
    "\n",
    "YOUR RESPONSE:\n",
    "\"\"\"\n",
    "prompt_template = PromptTemplate(input_variables=[\"user_meal\"], template=template)\n",
    "\n",
    "# 'meal' chain\n",
    "meal_chain = LLMChain(llm=llm, prompt=prompt_template)"
   ]
  },
  {
   "cell_type": "code",
   "execution_count": 21,
   "metadata": {},
   "outputs": [],
   "source": [
    "overall_chain = SimpleSequentialChain(chains=[location_chain, meal_chain], verbose=True)"
   ]
  },
  {
   "cell_type": "code",
   "execution_count": 22,
   "metadata": {},
   "outputs": [
    {
     "name": "stdout",
     "output_type": "stream",
     "text": [
      "\n",
      "\n",
      "\u001b[1m> Entering new  chain...\u001b[0m\n",
      "\u001b[36;1m\u001b[1;3m\n",
      "One classic dish from Rome is Spaghetti alla Carbonara, made with eggs, bacon, pecorino cheese, and black pepper.\u001b[0m\n",
      "\u001b[33;1m\u001b[1;3m\n",
      "Spaghetti alla Carbonara Recipe \n",
      "Ingredients:\n",
      "- 8oz spaghetti \n",
      "- 4 strips bacon, cut into small cubes\n",
      "- 2 eggs\n",
      "- 1/2 cup grated pecorino cheese\n",
      "- Freshly cracked black pepper, to taste \n",
      "- Olive oil\n",
      "\n",
      "Instructions:\n",
      "1. Start by cooking your spaghetti according to package directions.\n",
      "2. In a skillet over medium heat, cook the bacon cubes until crisp.\n",
      "3. In a separate bowl, beat together the eggs and pecorino cheese.\n",
      "4. Drain spaghetti in a colander and add back to the pot.\n",
      "5. Turn heat to low and add the egg and cheese mixture and stir constantly until creamy.\n",
      "6. Add the bacon and black pepper, then drizzle with olive oil.\n",
      "7. Serve while hot, and enjoy!\u001b[0m\n",
      "\n",
      "\u001b[1m> Finished chain.\u001b[0m\n"
     ]
    }
   ],
   "source": [
    "review = overall_chain.run(\"Rome\")"
   ]
  },
  {
   "cell_type": "markdown",
   "metadata": {},
   "source": [
    "### 2. Summarization Chain\n",
    "Chain già implementata che summarizza facilmente lunghi documenti e ne ottiene un riassunto. Guarda [questo video](https://www.youtube.com/watch?v=f9_BWhCI4Zo) per altri tipi di chain oltre alla map-reduce."
   ]
  },
  {
   "cell_type": "code",
   "execution_count": 23,
   "metadata": {},
   "outputs": [
    {
     "name": "stdout",
     "output_type": "stream",
     "text": [
      "\n",
      "\n",
      "\u001b[1m> Entering new  chain...\u001b[0m\n",
      "\n",
      "\n",
      "\u001b[1m> Entering new  chain...\u001b[0m\n",
      "Prompt after formatting:\n",
      "\u001b[32;1m\u001b[1;3mWrite a concise summary of the following:\n",
      "\n",
      "\n",
      "\"Giuseppe Lippi\n",
      "Le origini della Fondazione\n",
      "Come è nato il più famoso ciclo fantascientifico\n",
      "di tutti i tempi\n",
      "Apparso sul n. 1203 di Urania (18 aprile 1993)\n",
      "È il mattino del 1° agosto 1941; a New York, nella Settima Avenue, un giovanotto\n",
      "di belle speranze sale i gradini del palazzo Street & Smith, la vecchia casa editrice\n",
      "specializzata in pulp magazines che pubblica Astounding Science Fiction (ex\n",
      "Astounding Stories). Il giovanotto ha un appuntamento col signor Campbell, sì, John\n",
      "W. Campbell jr., conferma all’usciere mentre attende impaziente il pass.\n",
      "Attraversa quindi alcuni corridoi, e finalmente (dopo la visione di una magica\"\n",
      "\n",
      "\n",
      "CONCISE SUMMARY:\u001b[0m\n",
      "Prompt after formatting:\n",
      "\u001b[32;1m\u001b[1;3mWrite a concise summary of the following:\n",
      "\n",
      "\n",
      "\"stanza in cui sono accumulati, in tanti pacchetti, gli Astounding del mese dopo!),\n",
      "accede all’ufficio del signor Campbell. Il giovanotto è Isaac Asimov, un promettente\n",
      "nuovo autore che ha già venduto cinque racconti e che si considera ormai uno di\n",
      "famiglia lì ad Astounding, il re del pulp di fantascienza. Quando si reca agli\n",
      "appuntamenti con Campbell – vere e proprie story conferences, come si dice oggi in\n",
      "gergo hollywoodiano – Asimov dimentica completamente il mondo esterno, non\n",
      "riesce che a pensare ad Astounding, al suo direttore ed ai racconti in fieri di cui\n",
      "dovranno parlare insieme.\n",
      "Così, oggi, 1° agosto 1941, Asimov non pensa all’ombra minacciosa di Hitler che\"\n",
      "\n",
      "\n",
      "CONCISE SUMMARY:\u001b[0m\n",
      "Prompt after formatting:\n",
      "\u001b[32;1m\u001b[1;3mWrite a concise summary of the following:\n",
      "\n",
      "\n",
      "\"sovrasta l’Europa, all’invasione della Russia od alla battaglia d’Inghilterra: ma al\n",
      "fatto che lui deve discutere un nuovo soggetto con Campbell, e che, purtroppo, non\n",
      "ha nessun nuovo soggetto in mente...\n",
      "Preso dalla disperazione (e mentre l’usciere lo annuncia al direttore), Asimov\n",
      "comincia a sfogliare nervosamente un volume che tiene sotto il braccio: sono i libretti\n",
      "di Gilbert & Sullivan, i famosi autori d’operette che rimarranno per tutta la vita gli\n",
      "idoli del nostro autore. Ed ecco, il libro si apre a caso su una pagina della Iolanthe in\n",
      "cui la Regina delle Fate si butta ai piedi del soldato Willis. Il soldato Willis... uhm,\"\n",
      "\n",
      "\n",
      "CONCISE SUMMARY:\u001b[0m\n",
      "Prompt after formatting:\n",
      "\u001b[32;1m\u001b[1;3mWrite a concise summary of the following:\n",
      "\n",
      "\n",
      "\"fantastica Asimov abbandonandosi alla libera associazione d’idee... Spesso, dove ci\n",
      "sono regine e soldati, c’è anche un impero. Come l’Impero Romano, per esempio.\n",
      "Che cadde nel 476 per far posto ad un lungo Medioevo... A questo punto, la scintilla:\n",
      "Asimov ha letto per ben due volte il Declino e caduta dell’impero romano di Gibbon\n",
      "e si è trastullato con l’idea di volgerlo in chiave fantascientifica. Ora sa di che cosa\n",
      "parlerà a Campbell: di un impero galattico e del suo crollo.\n",
      "Appena in tempo, perché l’usciere si fa da parte ed invita Asimov a entrare: il\n",
      "signor Campbell lo aspetta.\n",
      "John Wood Campbell è un pezzo d’uomo coi capelli tagliati a spazzola e gli\"\n",
      "\n",
      "\n",
      "CONCISE SUMMARY:\u001b[0m\n",
      "Prompt after formatting:\n",
      "\u001b[32;1m\u001b[1;3mWrite a concise summary of the following:\n",
      "\n",
      "\n",
      "\"occhiali con montatura d’acciaio. Il suo non è un grande ufficio, ma in quel momento\n",
      "gli occhi di Asimov luccicano: sulla scrivania ingombra di carte, in un angolo, spicca\n",
      "l’originale della copertina del numero di agosto, un bel disegno di Rogers che\n",
      "raffigura un gruppo di astronavi azzurrine sulle rampe di lancio e che illustra il\n",
      "racconto di Nat Schachner Jurisdiction. C’è anche il manoscritto di Robert Heinlein\n",
      "relativo alla seconda puntata de I figli di Matusalemme, uscita quello stesso mese. Le\n",
      "correzioni editoriali, a matita rossa, sono discrete ma evidenti. Ma il cuore di Asimov\n",
      "ha un tuffo quando scorge un secondo originale di Rogers, quello per il numero di\"\n",
      "\n",
      "\n",
      "CONCISE SUMMARY:\u001b[0m\n",
      "Prompt after formatting:\n",
      "\u001b[32;1m\u001b[1;3mWrite a concise summary of the following:\n",
      "\n",
      "\n",
      "\"settembre: illustra nientemeno che un suo racconto, il celebre Notturno!\n",
      "In un ufficio così c’è da perdere la testa, ed Asimov deve sedersi. Campbell\n",
      "capisce: la sindrome dell’autore giovane ha colpito ancora, e gli porge un bicchiere\n",
      "d’acqua.\n",
      "« Caro Asimov, di cosa parliamo oggi? ».\n",
      "Asimov fa appena in tempo a rispondere: « Di imperi galattici » che subito\n",
      "Campbell s’infiamma, l’idea lo ha conquistato, bisogna scrivere al più presto il\n",
      "racconto. Ne discutono insieme i particolari, e ben presto Campbell convince il suo\n",
      "scrittore che un’idea così non si può comprimere in una singola storia: ce ne vorranno\n",
      "due, tre, una serie. Facendo piccoli saltelli eccitati per la stanza (mentre Asimov lo\"\n",
      "\n",
      "\n",
      "CONCISE SUMMARY:\u001b[0m\n",
      "Prompt after formatting:\n",
      "\u001b[32;1m\u001b[1;3mWrite a concise summary of the following:\n",
      "\n",
      "\n",
      "\"guarda con un misto di soddisfazione e d’apprensione) Campbell si fa raccontare i\n",
      "dettagli, che il giovane collaboratore improvvisa lì per lì.\n",
      "Dunque, il Primo Impero Galattico è crollato: ci vorranno mille anni prima che il\n",
      "Secondo possa sorgere dalle sue ceneri, ed è di questo periodo d’interregno che si\n",
      "occuperà la serie. Vi saranno narrate le lotte, le difficoltà, gli imprevisti cui i difensori\n",
      "della pace galattica andranno incontro per porre fine al turbolento Medioevo\n",
      "stellare...\n",
      "A questo punto (è facile immaginarlo) Campbell si volta verso Asimov e fa\n",
      "schioccare le dita: « Caro Asimov, è tutto grandioso, assolutamente inedito, ma come\"\n",
      "\n",
      "\n",
      "CONCISE SUMMARY:\u001b[0m\n",
      "Prompt after formatting:\n",
      "\u001b[32;1m\u001b[1;3mWrite a concise summary of the following:\n",
      "\n",
      "\n",
      "\"può un Medioevo galattico durare solo mille anni? Andiamo, è ridicolo che su scala\n",
      "cosmica si debbano rispettare tempi e cronologie tipicamente terrestri! No, qui ci\n",
      "vuole una trovata... ».\n",
      "E così, mentre la story conference prosegue sempre più infervorata, Asimov e\n",
      "Campbell abborracciano assieme il concetto di Psicostoria. Si tratta di una scienza\n",
      "immaginaria in virtù della quale i ricostruttori dell’Impero potranno prevedere\n",
      "scientificamente ciò che avverrà negli anni d’interregno, influenzando direttamente\n",
      "gli eventi storici. In questo modo il terribile Medioevo galattico, destinato a durare\n",
      "trentamila anni, si ridurrà a soli mille.\"\n",
      "\n",
      "\n",
      "CONCISE SUMMARY:\u001b[0m\n",
      "Prompt after formatting:\n",
      "\u001b[32;1m\u001b[1;3mWrite a concise summary of the following:\n",
      "\n",
      "\n",
      "\"trentamila anni, si ridurrà a soli mille.\n",
      "Campbell e Asimov si lasciano il primo agosto su questa intesa; Asimov corre a\n",
      "casa, scrive il racconto (intitolato Foundation) e lo spedisce l’8 settembre. Vedrà la\n",
      "luce sul numero di Astounding datato maggio 1942. Asimov, che fin da quei giorni\n",
      "lontani è un saggio amministratore di se stesso, fa in modo che il racconto termini su\n",
      "un momento di grande suspense: in questa maniera non c’è pericolo che Campbell\n",
      "cambi idea e annulli il progetto di una serie.\n",
      "Ma il nostro autore ha fatto i conti senza l’oste, e cioè la sua immaginazione. Che,\n",
      "a quanto pare, si rifiuta categoricamente di escogitare nuove avventure per i seguaci\"\n",
      "\n",
      "\n",
      "CONCISE SUMMARY:\u001b[0m\n",
      "Prompt after formatting:\n",
      "\u001b[32;1m\u001b[1;3mWrite a concise summary of the following:\n",
      "\n",
      "\n",
      "\"di Hari Seldon ed i suoi psicostorici, i soli uomini capaci di far risorgere l’Impero\n",
      "abbattuto. Il 2 novembre del 1941 – come Asimov annota nel suo diario – lo scrittore,\n",
      "sconfortato, incontra l’amico Frederik Pohl sul ponte di Brooklyn. Gli confida in\n",
      "breve le sue ambasce, specificando che da quasi dieci giorni tenta inutilmente di dare\n",
      "un seguito a Foundation. Pohl ribatte qualcosa che Asimov non ricorda, ma che\n",
      "evidentemente mette in moto un meccanismo inconscio. Tornato a casa, infatti, il\n",
      "nostro autore siede al tavolino e comincia a comporre diligentemente Bridle and\n",
      "Saddle, il secondo episodio della serie (pubblicato su Astounding del giugno 1942).\"\n",
      "\n",
      "\n",
      "CONCISE SUMMARY:\u001b[0m\n",
      "Prompt after formatting:\n",
      "\u001b[32;1m\u001b[1;3mWrite a concise summary of the following:\n",
      "\n",
      "\n",
      "\"Superato questo scoglio, dice Asimov, i racconti successivi verranno scritti\n",
      "facilmente. Si tratta di: The Big and the Little (agosto 1944), The Wedge (ottobre\n",
      "1944), Dead Hand (aprile 1945) e The Mule, pubblicato in due parti nei numeri di\n",
      "novembre e dicembre 1945: quando apparirà la seconda puntata, Asimov sarà ormai\n",
      "sotto le armi.\n",
      "Terminato il servizio militare, il nostro scrive Now You See It (gennaio 1948) e si\n",
      "rende conto che la serie della Fondazione ormai l’ha un po’ stufato. Nelle sue parole:\n",
      "« Mi ero stancato del ciclo della Fondazione, così in Now You See It cercai di porvi\n",
      "fine, risolvendo il mistero dell'ubicazione della Seconda Fondazione. Ma Campbell,\"\n",
      "\n",
      "\n",
      "CONCISE SUMMARY:\u001b[0m\n",
      "Prompt after formatting:\n",
      "\u001b[32;1m\u001b[1;3mWrite a concise summary of the following:\n",
      "\n",
      "\n",
      "\"quando lo lesse, non ne volle sentir parlare: mi obbligò a riscrivere il finale ed\n",
      "ottenne la promessa che avrei preparato almeno un altro racconto ». La storia\n",
      "conclusiva appare sui numeri di Astounding del novembre 1949, dicembre 1949 e\n",
      "gennaio 1950, divisa in tre puntate. Si intitola And Now You Don’t, forse l’inizio di\n",
      "una minacciosa protesta nei confronti di Campbell: « E adesso non ti azzardare a\n",
      "chiedermi un seguito ».\n",
      "Otto anni della sua vita, un totale di 220 mila parole: è questo il bilancio che\n",
      "Asimov fa guardandosi alle spalle e ripensando all’avventurosa storia del ciclo della\n",
      "Fondazione. L’ultimo racconto esce all’inizio di una nuova fase della sua carriera:\"\n",
      "\n",
      "\n",
      "CONCISE SUMMARY:\u001b[0m\n",
      "Prompt after formatting:\n",
      "\u001b[32;1m\u001b[1;3mWrite a concise summary of the following:\n",
      "\n",
      "\n",
      "\"ormai il nostro è diventato professore di biochimica alla Facoltà di Medicina\n",
      "dell’Università di Boston, ha pubblicato il suo primo libro e non pensa più agli imperi\n",
      "galattici. Ma come spesso succede, e a dispetto del suo creatore, la creatura non vuol\n",
      "saperne di morire.\n",
      "Chi pensava che il ciclo della Fondazione dovesse languire per sempre nelle pagine\n",
      "di Astounding, sbagliava di grosso: negli anni Cinquanta la fantascienza comincia a\n",
      "venire pubblicata anche al di fuori delle riviste, sia in paperback che in edizioni\n",
      "rilegate. Asimov fotocopia diligentemente i racconti della Fondazione e li sottopone a\n",
      "due case importanti, ma sia Doubleday (destinato, in futuro, a diventare il suo editore\"\n",
      "\n",
      "\n",
      "CONCISE SUMMARY:\u001b[0m\n",
      "Prompt after formatting:\n",
      "\u001b[32;1m\u001b[1;3mWrite a concise summary of the following:\n",
      "\n",
      "\n",
      "\"permanente) sia Little Brown respingono il serial. Ne è invece attratta una piccola\n",
      "ditta specializzata in fantascienza, la Gnome Press, fondata nel 1950. L’editore\n",
      "accetta di pubblicare il ciclo in edizione rilegata, ma chiede ad Asimov il piccolo\n",
      "sforzo di scrivere un supplemento introduttivo, perché ha la sensazione che il primo\n",
      "racconto cominci troppo bruscamente. Nel 1951, dunque, vede la luce Foundation,\n",
      "che raccoglie l’introduzione e le prime quattro storie originali; nel 1952 è la volta di\n",
      "Foundation and Empire (con la quinta e la sesta storia) e nel 1953 Second\n",
      "Foundation, con i racconti numero sette ed otto.\"\n",
      "\n",
      "\n",
      "CONCISE SUMMARY:\u001b[0m\n",
      "Prompt after formatting:\n",
      "\u001b[32;1m\u001b[1;3mWrite a concise summary of the following:\n",
      "\n",
      "\n",
      "\"Foundation, con i racconti numero sette ed otto.\n",
      "Purtroppo, però, Gnome è un editore quasi amatoriale: Asimov non percepisce un\n",
      "solo centesimo di diritti d’autore, e questa situazione esasperante dura dieci anni\n",
      "buoni. Le cose cambiano nel 1961, quando la Doubleday che è ormai diventata la\n",
      "casa fissa di Isaac Asimov, almeno per quel che concerne la fantascienza – riceve una\n",
      "richiesta di traduzione del ciclo da parte di un editore portoghese. Dato che la serie\n",
      "della Fondazione non le appartiene, Doubleday gira la richiesta ad Asimov, il quale si\n",
      "sfoga sconfortato col suo editor; « Al diavolo, Tim, quei libri sono fuori del mio\"\n",
      "\n",
      "\n",
      "CONCISE SUMMARY:\u001b[0m\n",
      "Prompt after formatting:\n",
      "\u001b[32;1m\u001b[1;3mWrite a concise summary of the following:\n",
      "\n",
      "\n",
      "\"controllo ». Timothy Seldes provvede subito a che le cose cambino, acquistando dalla\n",
      "Gnome tutti i diritti. L’accordo è raggiunto nell’agosto ’61: Doubleday stamperà\n",
      "l’edizione rilegata e la Avon Books quella tascabile (anche se negli anni precedenti\n",
      "c’è stata una versione economica, parziale, presso la Ace).\n",
      "È da questo momento che il ciclo diviene patrimonio di quel vasto pubblico che\n",
      "ignora tutto di Astounding, che storcerebbe la bocca al solo sentir nominare un\n",
      "“dinosauro” come Campbell ma che di fatto comincia ad appassionarsi alla\n",
      "fantascienza.\n",
      "L’edizione italiana è del 1963-64; l’edizione omnibus dello Science Fiction Book\"\n",
      "\n",
      "\n",
      "CONCISE SUMMARY:\u001b[0m\n",
      "Prompt after formatting:\n",
      "\u001b[32;1m\u001b[1;3mWrite a concise summary of the following:\n",
      "\n",
      "\n",
      "\"Club americano viene costantemente ristampata da vent’anni. Migliaia di lettori\n",
      "scrivono ad Asimov, decretando che il ciclo della Fondazione sia la sua opera più\n",
      "riuscita. Questa opinione viene ufficializzata nel 1966, quando la trilogia galattica\n",
      "riceve il premio Hugo per il miglior ciclo di tutti i tempi, battendo Il Signore degli\n",
      "Anelli di Tolkien.\n",
      "A differenza di altre opere di successo “datate”, a cui si è pensato di dare un\n",
      "seguito per ragioni puramente commerciali, il ciclo della Fondazione non ha mai\n",
      "smesso di suscitare richieste di “ancora!” da parte dei fans. Ad un certo punto un\n",
      "collega di Asimov, lo scrittore Lester del Rey, ha minacciato di scrivere lui stesso il\"\n",
      "\n",
      "\n",
      "CONCISE SUMMARY:\u001b[0m\n",
      "Prompt after formatting:\n",
      "\u001b[32;1m\u001b[1;3mWrite a concise summary of the following:\n",
      "\n",
      "\n",
      "\"seguito, se Isaac si fosse intestardito a non farlo. E così, dopo varie pressioni, nel\n",
      "1971 Asimov siede alla macchina per scrivere e in cima a un virginale foglio bianco\n",
      "batte il titolo del suo nuovo romanzo: The Lightining Rod, capitolo numero quattro\n",
      "dell’ex trilogia galattica. Ma si arresta dopo sole quattordici cartelle. « Negli anni\n",
      "Quaranta – scriverà, a sua parziale discolpa – mi trovavo nello stato d’animo adatto\n",
      "ad immaginare le avventure della Fondazione. Trent’anni dopo non lo ero più: ormai\n",
      "scrivevo pochissima narrativa e il grosso del mio lavoro era rappresentato dai saggi e\n",
      "dai libri di divulgazione. Nemmeno la rilettura dei primi tre tomi del ciclo era bastata\"\n",
      "\n",
      "\n",
      "CONCISE SUMMARY:\u001b[0m\n",
      "Prompt after formatting:\n",
      "\u001b[32;1m\u001b[1;3mWrite a concise summary of the following:\n",
      "\n",
      "\n",
      "\"a ispirarmi... Anzi, preso dal terrore, mi ero domandato: ma che diavolo ci troverà, la\n",
      "gente, in una storia come questa? »\n",
      "Eppure, la gente continuava a trovarla irresistibile. Passano altri dieci anni: l’attesa\n",
      "del pubblico è così spasmodica che un pittore milanese appassionato di fantascienza,\n",
      "Giuseppe Festino, “ricostruisce” un’ipotetica copertina della rivista Urania in cui si\n",
      "presenta il tanto atteso seguito della trilogia. Il titolo immaginato da Festino per\n",
      "l’edizione italiana è “Terza Fondazione”. Molti appassionati prendono la burla per\n",
      "vera, e così, quando si diffonde la notizia che Asimov sta lavorando davvero al quarto\"\n",
      "\n",
      "\n",
      "CONCISE SUMMARY:\u001b[0m\n",
      "Prompt after formatting:\n",
      "\u001b[32;1m\u001b[1;3mWrite a concise summary of the following:\n",
      "\n",
      "\n",
      "\"libro della saga, accettano la cosa con una punta di condiscendenza: “loro” sapevano\n",
      "già.\n",
      "Invece si tratta di una coincidenza clamorosa: ed i più informati (i quali sapevano\n",
      "benissimo che Festino aveva disegnato per il puro piacere di farlo, senza nessuna\n",
      "“spifferata” da oltreoceano) restano di sasso quando il miracolo s’avvera. Certo, il\n",
      "romanzo non s’intitola Third Foundation, certo, la sua prima edizione non vedrà la\n",
      "luce in Urania, ma la profetica anticipazione non perde nulla della sua magia.\n",
      "Per scrivere L’orlo della Fondazione Asimov subisce una sorta di ricatto alla\n",
      "rovescia: la Doubleday gli spedisce un assegno di 25 mila dollari prima ancora che\"\n",
      "\n",
      "\n",
      "CONCISE SUMMARY:\u001b[0m\n",
      "Prompt after formatting:\n",
      "\u001b[32;1m\u001b[1;3mWrite a concise summary of the following:\n",
      "\n",
      "\n",
      "\"lui si metta al lavoro. Ed un anticipo sull’anticipo: alla consegna del manoscritto\n",
      "seguiranno altri 25 mila dollari, poi, naturalmente, i diritti d’autore non appena il\n",
      "romanzo avrà cominciato la sua fortunata tournée nel mondo.\n",
      "Sulle prime Asimov vorrebbe rifiutare: ma Betty Prashker, senior editor alla\n",
      "Doubleday, è irremovibile. Tienti l’assegno e goditelo, dice. Ah, pensa il povero\n",
      "Asimov, Godermelo! Come faccio a godermelo, quando so di essere indebitato per\n",
      "cinquantamila dollari?\n",
      "Non gli resta che sedersi alla macchina per scrivere, rispolverare le quattordici\n",
      "cartelle di The Lightning Rod e battere in cima al foglio virginale un nuovo titolo.\"\n",
      "\n",
      "\n",
      "CONCISE SUMMARY:\u001b[0m\n",
      "Prompt after formatting:\n",
      "\u001b[32;1m\u001b[1;3mWrite a concise summary of the following:\n",
      "\n",
      "\n",
      "\"Cominciato nel giugno 1981, Foundation’s Edge viene consegnato agli editori il 25\n",
      "marzo 1982. Inizialmente l’autore pensa di mantenere il vecchio titolo, The Lightning\n",
      "Rod; ma gli fanno presente che sarebbe carino se la parola “Fondazione” si potesse in\n",
      "qualche modo incorporare. Asimov propone quindi Foundations at Bay (“Scacco alle\n",
      "Fondazioni”), per giungere infine al più lapidario Foundation’s Edge.\n",
      "E questa è tutta la storia.\n",
      "Il tema centrale della saga è quello del crollo di un gigantesco impero galattico e\n",
      "dei problemi che sorgono per abbreviare il turbolento periodo d’interregno. Il genere\n",
      "“imperi galattici” non è un’invenzione di Asimov, sebbene la fantascienza abbia\"\n",
      "\n",
      "\n",
      "CONCISE SUMMARY:\u001b[0m\n",
      "Prompt after formatting:\n",
      "\u001b[32;1m\u001b[1;3mWrite a concise summary of the following:\n",
      "\n",
      "\n",
      "\"cominciato a farne un uso cosciente più o meno negli stessi anni in cui prendeva\n",
      "corpo il ciclo della Fondazione. Perché non prima?\n",
      "Ma innanzitutto per una questione di scope, cioè di grandezza degli orizzonti: la\n",
      "neonata science fiction degli anni Venti e Trenta impiegò un certo tempo per rendersi\n",
      "conto delle sue potenzialità, per capire che sì, la velocità della luce poteva essere\n",
      "infranta, che l’uomo poteva spingersi fuori del sistema solare, che le stelle – sia pure\n",
      "a prezzo di avventure titaniche – potevano venir “domate” e raggruppate in ideali\n",
      "Federazioni. Questi, piccoli miracoli di “allargamento dell’orizzonte” avvennero, più\"\n",
      "\n",
      "\n",
      "CONCISE SUMMARY:\u001b[0m\n",
      "Prompt after formatting:\n",
      "\u001b[32;1m\u001b[1;3mWrite a concise summary of the following:\n",
      "\n",
      "\n",
      "\"o meno, fra il 1928 ed il 1940. Solo allora cominciò a lavorare una generazione di\n",
      "scrittori che si era formata leggendo la fantascienza altrui, e che quindi, più che\n",
      "essere preoccupata di rendere accettabili determinate convenzioni (il viaggio nello\n",
      "spazio, nel tempo, ecc.) le dava per scontate e le portava alle loro estreme\n",
      "conseguenze.\n",
      "Il ciclo della Fondazione di Asimov non sarebbe stato possibile senza le avventure\n",
      "della Pattuglia Galattica e dei Lensmen di E.E. “Doc” Smith; della Legione di\n",
      "Williamson; della Federazione di Edmond Hamilton (in quei classici della space\n",
      "opera che sono L’invasione della galassia e I soli che si scontrano).\"\n",
      "\n",
      "\n",
      "CONCISE SUMMARY:\u001b[0m\n",
      "Prompt after formatting:\n",
      "\u001b[32;1m\u001b[1;3mWrite a concise summary of the following:\n",
      "\n",
      "\n",
      "\"Perché un impero galattico sia concepibile, infatti, occorre: a) postulare non solo il\n",
      "raggiungimento, ma il superamento della velocità della luce, cosa teoricamente\n",
      "impossibile per i fisici ma poeticamente ammissibile dagli scrittori; b) l’esistenza di\n",
      "una forma d’amministrazione così complessa da rendere possibile una civiltà\n",
      "relativamente omogenea pur se sparsa su stelle distanti fra loro; c) lo sviluppo,\n",
      "quindi, di una vera e propria “diplomazia” stellare, di una politica stellare e così via;\n",
      "d) l’ammissione che la storia dell’uomo non si svolga più su un piano planetario, ma\n",
      "universale. È un balzo concettuale notevole, perché significa il passaggio da storia\"\n",
      "\n",
      "\n",
      "CONCISE SUMMARY:\u001b[0m\n",
      "Prompt after formatting:\n",
      "\u001b[32;1m\u001b[1;3mWrite a concise summary of the following:\n",
      "\n",
      "\n",
      "\"microcosmica a “macrocosmica”: uomo e universo si ritrovano, coincidono.\n",
      "Naturalmente, per la loro stessa “grandiosità”, i racconti sugli imperi galattici\n",
      "fanno acqua da tutte le parti se esaminati da un punto di vista logico. Come\n",
      "giustamente sostiene lo scrittore inglese Brian W. Aldiss, che all’argomento ha\n",
      "dedicato un’esemplare antologia (Imperi galattici), questi racconti piacciono in\n",
      "definitiva più per il loro sapore di “kolossal”, di film in costume, di avventura per\n",
      "l’avventura, che non per le implicazioni concettuali... Salvo alcune eccezioni.\n",
      "La serie della Fondazione rappresenta la più celebre e, forse, la più riuscita di\"\n",
      "\n",
      "\n",
      "CONCISE SUMMARY:\u001b[0m\n",
      "Prompt after formatting:\n",
      "\u001b[32;1m\u001b[1;3mWrite a concise summary of the following:\n",
      "\n",
      "\n",
      "\"queste eccezioni. Il suo fascino non risiede infatti in quell’amalgama di colori violenti\n",
      "e forti sensazioni per cui amiamo la space opera “calda” (Hamilton o Williamson),\n",
      "ma nella “credibilità”, o almeno nella relativa complessità con cui è costruito lo\n",
      "scenario ed è mandata avanti l’azione. Nella galassia di Asimov, insomma, non\n",
      "contano le battaglie di mostri verdi (che infatti sono assenti), quanto le nozioni di\n",
      "politica stellare, di economia, le schermaglie diplomatiche e scientifiche. E a chi,\n",
      "inorridito, si ritraesse dicendo: « Ma è suspense, questa? », dovremmo rispondere: sì,\n",
      "è suspense, perché Asimov riesce a tramutare quella che all’inizio sembrava solo una\"\n",
      "\n",
      "\n",
      "CONCISE SUMMARY:\u001b[0m\n",
      "Prompt after formatting:\n",
      "\u001b[32;1m\u001b[1;3mWrite a concise summary of the following:\n",
      "\n",
      "\n",
      "\"complicata partita a Monopoli in un’avventura affascinante, ricchissima di colpi di\n",
      "scena, imprevisti, trabocchetti, tale da far invidia al più consumato romanziere\n",
      "d’avventure.\n",
      "Con la differenza, ripetiamo, che le avventure di Asimov sono imperniate\n",
      "sull’elasticità degli intelletti piuttosto che su quella dei muscoli; sulle battaglie\n",
      "politiche piuttosto che su quelle coi cannoni laser. Il “movimento” di questa\n",
      "movimentatissima saga è di tipo cerebrale: la trilogia della Fondazione può a buon\n",
      "diritto definirsi la “summa” della cosiddetta Età d’Oro della fantascienza, cioè di\n",
      "quegli anni Quaranta che furono dominati da Astouning e dal suo direttore Campbell.\"\n",
      "\n",
      "\n",
      "CONCISE SUMMARY:\u001b[0m\n",
      "Prompt after formatting:\n",
      "\u001b[32;1m\u001b[1;3mWrite a concise summary of the following:\n",
      "\n",
      "\n",
      "\"In quegli anni i lettori scoprirono, accanto all’intramontabile sense of wonder, il\n",
      "nuovo piacere della speculazione, dell’idea sofisticata e molto elaborata. A questo\n",
      "tipo di fantascienza Asimov ed alcuni colleghi – soprattutto il complesso ed\n",
      "affascinante Robert Heinlein – hanno dato parecchi capolavori.\n",
      "Con Fondazione siamo in presenza di uno dei cicli di fantascienza più\n",
      "soddisfacenti d’ogni tempo.\n",
      "L’impero galattico di Asimov è costruito non solo su tutta la serie di premesse che\n",
      "elencavamo sopra (superamento della velocità della luce. civiltà stellare, storia a\n",
      "livello cosmico, ecc.) ma su alcune idee originali e specifiche che qui trovano\"\n",
      "\n",
      "\n",
      "CONCISE SUMMARY:\u001b[0m\n",
      "Prompt after formatting:\n",
      "\u001b[32;1m\u001b[1;3mWrite a concise summary of the following:\n",
      "\n",
      "\n",
      "\"fortunata applicazione. In primo luogo, il concetto di Fondazione: Asimov ritiene che\n",
      "per salvare la galassia dal caos sia necessaria l’opera di scienziati avanzatissimi, e\n",
      "sono appunto questi scienziati a popolare le Fondazioni istituite centinaia d’anni\n",
      "addietro da Hari Seldon, l’inventore della Psicostoria.\n",
      "In secondo luogo, la Psicostoria stessa: questa scienza immaginaria non è, al\n",
      "contrario di quel che si potrebbe pensare, la parente prossima di un fosco\n",
      "determinismo, ma si basa in sostanza sulle leggi della statistica. Se il comportamento\n",
      "del singolo è imprevedibile, dice Asimov (o meglio Hari Seldon), il comportamento\"\n",
      "\n",
      "\n",
      "CONCISE SUMMARY:\u001b[0m\n",
      "Prompt after formatting:\n",
      "\u001b[32;1m\u001b[1;3mWrite a concise summary of the following:\n",
      "\n",
      "\n",
      "\"di grandi masse di individui è statisticamente inquadrabile in una serie di tendenze.\n",
      "Quanto più vasta è la porzione di umanità presa in esame, tanto più precise\n",
      "risulteranno le “previsioni” dei suoi movimenti di massima. Grazie alla Psicostoria il\n",
      "lunghissimo interregno fra il crollo del Primo Impero e l’avvento del Secondo verrà\n",
      "accorciato a proporzioni sopportabili. Ma il bello di uno scrittore come Asimov è che\n",
      "non si limita a postulare un’idea e a farla campare di rendita: no, si diverte a\n",
      "contraddirla, a immaginare gli ostacoli che le sbarreranno il passo, ad inventare i\n",
      "tranelli a cui andranno incontro le soluzioni prospettate solo un minuto prima. È da\"\n",
      "\n",
      "\n",
      "CONCISE SUMMARY:\u001b[0m\n",
      "Prompt after formatting:\n",
      "\u001b[32;1m\u001b[1;3mWrite a concise summary of the following:\n",
      "\n",
      "\n",
      "\"qui che nasce la suspense, il senso del mistero: e nel caso del ciclo della Fondazione\n",
      "quest’imprevisto si chiama Mulo, un essere dotato di poteri “psi” che proprio per\n",
      "questo rischia di mandare all’aria il lunghissimo lavorio delle Fondazioni.\n",
      "Ma i pericoli e gli imprevisti si moltiplicano nei successivi romanzi, da\n",
      "Fondazione e Terra a I robot e l’Impero fino al Preludio alla Fondazione che\n",
      "Asimov ha scritto nel corso degli anni Ottanta.\n",
      "Fondazione anno zero, il suo ultimo libro, è stato completato poco prima della\n",
      "morte dello scrittore, avvenuta nell’aprile 1992. È la storia su cui il cerchio si chiude.\"\n",
      "\n",
      "\n",
      "CONCISE SUMMARY:\u001b[0m\n",
      "\n",
      "\u001b[1m> Finished chain.\u001b[0m\n",
      "\n",
      "\n",
      "\u001b[1m> Entering new  chain...\u001b[0m\n",
      "Prompt after formatting:\n",
      "\u001b[32;1m\u001b[1;3mWrite a concise summary of the following:\n",
      "\n",
      "\n",
      "\" In 1941, a young man goes to Street & Smith, a publishing house in New York that specializes in pulp magazines, for an appointment with John W. Campbell Jr., the editor of Astounding Science Fiction. After waiting and going through some corridors, he has a magical vision that leads to the creation of one of the most famous science-fiction series of all time.\n",
      "\n",
      "\n",
      "Isaac Asimov, a promising new author with five published stories, considers himself part of the family at Astounding, the king of science fiction pulp. He visits the office of Campbell for a 'story conference', where he completely forgets the world outside and focuses on Astounding and their upcoming stories. On this day, 1 August 1941, he is unaware of the looming threat of Hitler.\n",
      "\n",
      " Isaac Asimov is unable to think of any new topics for discussion with Campbell, and becomes desperate. He picks up a book of Gilbert & Sullivan's musicals, opening to a page from \"Iolanthe,\" and finds a character named \"Soldier Willis\". This brings him inspiration for a new topic and leads to a successful meeting.\n",
      "\n",
      " Isaac Asimov is inspired by Edward Gibbon's Decline and Fall of the Roman Empire to create a galactic empire story for John Wood Campbell. Despite initial nerves, Asimov meets the peice of man with his spiky hair.\n",
      "\n",
      " Asimov is in his small office and is admiring the original artworks of Rogers which have been used as a cover of August's issue of a magazine. There are also corrections of Robert Heinlein's work I figli di Matusalemme. Asimov's heart is full of joy when he finds a different original artpiece of Rogers for the same magazine. \n",
      "\n",
      " In an office, Campbell recognizes the 'author's syndrome' in young Asimov and offers him water. Asimov explains he would like to write about galactic empires, which Campbell finds exciting and suggests making it into a series. The two then discuss the details of the story while Campbell jumps around excitedly.\n",
      "\n",
      "\n",
      "Il racconto si concentra su un periodo di transizione tra l'Impero Galattico Primo e il Secondo, dove la pace galattica sarà ostacolata da lotte, difficoltà e imprevisti. Incoraggiato dalle idee, John W. Campbell si congratula con Asimov per la sua originalità e inventiva.\n",
      "\n",
      " Isaac Asimov and John Campbell together created a science fiction concept of Psicostoria, which allowed for the prediction of events during the inherently turbulent 'Medioevo galattico' and condensing it from 30,000 years to 1,000 years.\n",
      "\n",
      " In August 1940, Campbell and Asimov agree that Asimov will write a science fiction story, called \"Foundation\", which will be published in the May 1942 issue of Astounding, and will end on a suspenseful note to ensure that Campbell doesn't change his idea and cancel the series. Asimov, however, finds it hard to imagine more adventures for the characters.\n",
      "\n",
      " In 1941, Isaac Asimov confides his struggles with writing the sequel to \"Foundation\" to his friend Frederik Pohl on the Brooklyn Bridge. Pohl unknowingly inspires the author and, when he returns home, Asimov begins writing \"Bridle and Saddle\", which is published in Astounding magazine in June 1942.\n",
      "\n",
      "\n",
      "Isaac Asimov wrote four stories in the \"Foundation\" series: The Big and the Little, The Wedge, Dead Hand, and The Mule. After completing his military service, he wrote Now You See It in an attempt to conclude the series. However, his publisher, John Campbell, urged him to continue writing and create more stories.\n",
      "\n",
      " Asimov wrote 220,000 words over 8 years for the Foundation series, with its concluding story \"And Now You Don't\" published in three parts in 1949-50. This story may have represented a protest against Campbell, seemingly warning against a sequel. The stories mark the beginning of a new phase of his career.\n",
      "\n",
      "\n",
      "Il professor Asimov pubblica un libro e lascia da parte i propri pensieri sugli imperi galattici. Ma la sua creatura, la Fondazione, resiste e nei cinquanta comincia a essere pubblicata in paperback e stampa rilegata. Asimov fotocopia allora i racconti della Fondazione e gli invia a due case editrici, Diubleday incluso, di cui poi sarebbe stato l'editore.\n",
      "\n",
      " After initially being rejected by Little Brown publishers, a small science fiction publisher - Gnome Press - accepted Isaac Asimov's \"Foundation\" series for publication. However, to do so, it required Asimov to add an introductory supplement. As such, in 1951 the first volume of the series - consisting of the introductory material and the first four stories - was published, followed two more volumes in 1952 and 1953 with the fifth and sixth stories, and then the seventh and eighth respectively.\n",
      "\n",
      " Isaac Asimov pubblica le storie della Fondazione presso un editore quasi amatoriale che non gli dà diritti d’autore per dieci anni, ma nel 1961 la Doubleday riceve una richiesta di traduzione del ciclo dall’editore portoghese, permettendo ad Asimov di finalmente guadagnare dalla sua opera.\n",
      "\n",
      " Timothy Seldes partner with Gnome to purchase all rights to the cycle in August 1961, allowing Doubleday to print in hardcover and Avon Books to print in paperback. From this moment on, the cycle began gaining the attention of a large audience who was previously unaware of Astounding and began to appreciate science fiction. The Italian edition was released in 1963-1964 and the omnibus edition of the Science Fiction Book followed soon after.\n",
      "\n",
      "  Club americano di Asimov è stato ristampato per venti anni e migliaia di lettori continuano ad apprezzare il ciclo della Fondazione come la migliore opera di Asimov. Nel 1966 la trilogia galattica ha ottenuto il premio Hugo come ciclo di tutti i tempi migliore rispetto a quello del Signore degli Anelli di Tolkien. In seguito la richiesta dei fans ha infine spinto un collega di Asimov, Lester del Rey, a minacciare di scrivere lui stesso il seguito di quel ciclo.\n",
      "\n",
      " In 1971, after much pressure from his fanbase, Asimov began writing a fourth installment of his famous 'Galactic Trilology' series - The Lightening Rod - but gave up after only fourteen pages. He noted that time and his focus on writing non-fiction works had impacted his ability to write fiction like he did decades before.\n",
      "\n",
      " Dieci anni dopo la pubblicazione della trilogia, il pubblico era così interessato che Giuseppe Festino, un pittore milanese di fantascienza, ha creato un'ipotetica copertina della rivista Urania con un titolo inventato: \"Terza Fondazione\". Alcuni hanno preso la burla per vera e con notizia che Asimov stava lavoranto davvero al quarto libro.\n",
      "\n",
      " Festino, without any prior knowledge of the 'Third Foundation' novel by Asimov, has created a picture depicting it, which surprises those familiar with the source material. Asimov then goes on to write 'L’orlo della Fondazione', after the Doubleday company sends him an advance of 25 thousand dollars.\n",
      "\n",
      " \n",
      "Isaac Asimov, a senior editor at Doubleday, is apprehensive when offered an advance of 25,000 dollars for writing a novel, in addition to future royalties. He reluctantly accepts the money but is overwhelmed by the thought of being indebted for fifty thousand dollars. He is determined to start working on the project, editing his \"The Lightning Rod\" manuscript and using it as the basis for a new novel.\n",
      "\n",
      "\n",
      "Begun in June of 1981, Foundation's Edge was delivered to publishers on March 25, 1982. Initially, the author thought to retain the old title, The Lightning Rod, but it was suggested that the word \"Foundation\" be incorporated somehow. Asimov ultimately decided on Foundation's Edge as the title. The central theme of the saga is the collapse of a massive galactic empire and the resulting problems that arise during the turbulent interregnum. The genre of \"galactic empires\" was not invented by Asimov, though science fiction certainly popularized it.\n",
      "\n",
      " Science fiction of the 1920s and 1930s took a while to realize the potential of its potential, understanding that the speed of light could be broken, humans could travel outside the solar system, and stars could be tamed and grouped into ideal federations. These small miracles of 'widening the horizons' gradually took place more and more until the cycle of the Foundation began.\n",
      "\n",
      " Dal 1928 al 1940 generazioni di scrittori di fantascienza si sono formate prendendo ispirazione da grandi opere come la Pattuglia Galattica di E.E. \"Doc\" Smith, la Legione di Williamson e la Federazione di Edmond Hamilton. Queste opere hanno permesso lo sviluppo degli estremi concetti della Fondazione di Asimov.\n",
      "\n",
      " In order to create a galactic empire, it is necessary to postulate the surpassing of the speed of light, possess a complex government system, and be aware of universal history instead of solely planetary history. This is a large conceptual jump.\n",
      "\n",
      " Brian W. Aldiss, an English writer, has dedicated an exemplary anthology to the topic of galactic empires, which often have logical flaws. Despite this, these stories are popular due to their 'kolossal' value, and for their adventure elements. Among the exceptions is the most well-known and successful series of the Foundation.\n",
      "\n",
      "\n",
      "Il fascino della space opera di Asimov non risiede nella violenza dei colori o nelle forti sensazioni che tipicamente caratterizzano le opere dei suoi predecessori, quanto piuttosto nel suo \"credibile\" ed intellettualmente complesso scenario che si concentra su politica stellare, economia e schermaglie diplomatiche/scientifiche. Asimov riesce a tradurre ciò che sembrava solo un intellettualismo astratto in pura suspense.\n",
      "\n",
      " Isaac Asimov's \"Trilogy of the Foundation\" is an exciting, unpredictable adventure full of twists and turns. Set in a futuristic universe, the story is centred around political battles and intellectual conflict, representing the Golden Age of Science Fiction in the 1940s with Astounding and it's director Campbell.\n",
      "\n",
      " In those years, readers discovered, alongside the timeless sense of wonder, the new pleasure of speculation of sophisticated and elaborate ideas. This type of science fiction was made popular by Asimov and fellow authors like Robert Heinlein. Fondazione is one of the most satisfying science fiction series of all time. Asimov's galactic empire is built upon the series of interrelated concepts, which include surpassing the speed of light, interstellar civilization, and cosmic story. It is also based upon some of Asimov's unique and specific ideas.\n",
      "\n",
      " In Isaac Asimov's \"Foundation\" series, the concept of the Foundation is that of a group of highly skilled scientists to help stabilize the galaxy. The Psicostoria, an imaginary science, is based on the laws of statistics. The behavior of each individual is unpredictable but the behavior of large groups is predictable.\n",
      "\n",
      "\n",
      "La Psicostoria può fornire previsioni approfondite sui movimenti di massa degli individui. Grazie a questa verrà drasticamente ridotta la durata dell'interregno fra il crollo del Primo Impero e l'avvento del Secondo Impero. La scrittura di Asimov aggiunge anche gli ostacoli e gli sviluppi nelle soluzioni prospettate.\n",
      "\n",
      "The Foundation Cycle by Isaac Asimov follows the story of an unlikely character, Mulo, endowed with \"psi\" powers, which throws a spanner in the works of the Fondations' plan. The story is told over several novels, culminating with Asimov's last book, \"Fondation Anno Zero\" before his death in April 1992, and thus closing the circle.\"\n",
      "\n",
      "\n",
      "CONCISE SUMMARY:\u001b[0m\n",
      "\n",
      "\u001b[1m> Finished chain.\u001b[0m\n",
      "\n",
      "\u001b[1m> Finished chain.\u001b[0m\n"
     ]
    }
   ],
   "source": [
    "from langchain.chains.summarize import load_summarize_chain\n",
    "from langchain.document_loaders import TextLoader\n",
    "from langchain.text_splitter import RecursiveCharacterTextSplitter\n",
    "\n",
    "loader = TextLoader('../documents/preface_fondazione_asimov.txt')\n",
    "documents = loader.load()\n",
    "\n",
    "# Prepara lo splitter\n",
    "text_splitter = RecursiveCharacterTextSplitter(chunk_size=700, chunk_overlap=50)\n",
    "\n",
    "# Dividi il documento in chunks\n",
    "texts = text_splitter.split_documents(documents)\n",
    "\n",
    "# Ci sta un po' di complessità in questa riga. Ti consiglio di guardare il video sopra per maggiori dettagli\n",
    "chain = load_summarize_chain(llm, chain_type=\"map_reduce\", verbose=True)\n",
    "res = chain.run(texts)"
   ]
  },
  {
   "cell_type": "code",
   "execution_count": 24,
   "metadata": {},
   "outputs": [
    {
     "name": "stdout",
     "output_type": "stream",
     "text": [
      "('\\n'\n",
      " '\\n'\n",
      " 'In 1941, Isaac Asimov has an appointment with the editor of Astounding '\n",
      " 'Science Fiction Magazine and accidentally finds inspiration for the story '\n",
      " 'that becomes one of the most famous science-fiction series of all time - the '\n",
      " 'Foundation series. Asimov uses Pyschostoria, a fictional science based on '\n",
      " 'the laws of statistics as a central theme in his story and the series has '\n",
      " 'since been highly praised as one of the greatest science fiction works of '\n",
      " 'all time. The cycle ends with the publication of his last book ‘Foundation '\n",
      " 'Anno Zero’ shortly before his death in 1992.')\n"
     ]
    }
   ],
   "source": [
    "import pprint\n",
    "pprint.pprint(res)"
   ]
  }
 ],
 "metadata": {
  "kernelspec": {
   "display_name": "django_langchain_env",
   "language": "python",
   "name": "python3"
  },
  "language_info": {
   "codemirror_mode": {
    "name": "ipython",
    "version": 3
   },
   "file_extension": ".py",
   "mimetype": "text/x-python",
   "name": "python",
   "nbconvert_exporter": "python",
   "pygments_lexer": "ipython3",
   "version": "3.8.16"
  },
  "orig_nbformat": 4
 },
 "nbformat": 4,
 "nbformat_minor": 2
}
