{
 "cells": [
  {
   "cell_type": "markdown",
   "metadata": {},
   "source": [
    "### **Cos'è LangChain?**\n",
    "> LangChain è un framework per lo sviluppo di applicazioni che sfruttano modelli di linguaggio.\n",
    "\n",
    "**TLDR**: LangChain rende più semplici le parti complicate di utilizzo e costruzione di modelli di intelligenza artificiale. Ciò avviene in due modi:\n",
    "\n",
    "1. **Integration** - Importa dati esterni, come i filed, altre applicazioni o dati da API, ai tuoi modelli di linguaggio.\n",
    "2. **Agentività** - Consente ai modelli di linguaggio di interagire con l'ambiente prendendo decisioni e utilizzando tools esterni. Utilizza i modelli di linguaggio per aiutarti a decidere quale azione intraprendere successivamente.\n",
    "\n",
    "### **Perché LangChain?**\n",
    "1. **Components** - LangChain facilita la sostituzione e l'astrazione dei componenti necessari per lavorare con modelli di linguaggio.\n",
    "\n",
    "2. **Chain personalizzate** - LangChain fornisce supporto integrato per l'utilizzo e la personalizzazione di 'chain' - una serie di azioni concatenate.\n",
    "\n",
    "3. **Velocità 🚢** - Il team è incredibilmente veloce nel rilascio. Sarai sempre aggiornato sulle ultime funzionalità dei modelli di linguaggio.\n",
    "\n",
    "4. **Community 👥** - Supporto tramite Discord e comunità, incontri, hackathon, ecc.\n"
   ]
  },
  {
   "cell_type": "code",
   "execution_count": 2,
   "metadata": {},
   "outputs": [],
   "source": [
    "# Load .env file\n",
    "from dotenv import load_dotenv\n",
    "import os\n",
    "load_dotenv(dotenv_path=\"../.env\")\n",
    "OPENAI_API_KEY = os.getenv(\"OPENAI_API_KEY\")\n",
    "openai_api_key=OPENAI_API_KEY"
   ]
  },
  {
   "cell_type": "markdown",
   "metadata": {},
   "source": [
    "# Componenti LangChain\n",
    "\n",
    "## Schema di input\n",
    "### **Text**\n",
    "Il modo di interagire con i modelli utilizzando il linguaggio naturale\n"
   ]
  },
  {
   "cell_type": "code",
   "execution_count": 3,
   "metadata": {},
   "outputs": [],
   "source": [
    "# Possiamo lavorare con testi semplici\n",
    "my_text = \"Che giorno viene dopo Venerdì?\""
   ]
  },
  {
   "cell_type": "markdown",
   "metadata": {},
   "source": [
    "### **Chat Messages**\n",
    "Simili al testo, ma vengo associati con un tipo di messaggio (System, Human, AI)\n",
    "\n",
    "* **System** - Contesto di sfondo utile che indica all'AI cosa fare\n",
    "* **Human** - Messaggi che intendono rappresentare l'utente\n",
    "* **AI** - Messaggi che mostrano ciò a cui l'AI ha risposto\n",
    "\n",
    "Per ulteriori informazioni, consulta la [documentazione](https://platform.openai.com/docs/guides/chat/introduction) di OpenAI.\n"
   ]
  },
  {
   "cell_type": "code",
   "execution_count": 4,
   "metadata": {},
   "outputs": [],
   "source": [
    "from langchain.schema import HumanMessage, SystemMessage, AIMessage\n",
    "\n",
    "history = [\n",
    "    SystemMessage(content=\"You are an helpful chatbot that helps a user to remember the days of the week\"),\n",
    "    HumanMessage(content=my_text),\n",
    "]"
   ]
  },
  {
   "cell_type": "markdown",
   "metadata": {},
   "source": [
    "### **Documents**\n",
    "Un oggetto che contiene un stringa di testo e dei metadati (ulteriori informazioni su quel testo)"
   ]
  },
  {
   "cell_type": "code",
   "execution_count": 5,
   "metadata": {},
   "outputs": [
    {
     "data": {
      "text/plain": [
       "Document(page_content='Lorem ipsum dolor sit amet, consectetur adipiscing elit.', metadata={'id': 42, 'source': 'https://www.loremipsum.com', 'create_time': '2021-01-01 12:00:00'})"
      ]
     },
     "execution_count": 5,
     "metadata": {},
     "output_type": "execute_result"
    }
   ],
   "source": [
    "from langchain.schema import Document\n",
    "Document(page_content=\"Lorem ipsum dolor sit amet, consectetur adipiscing elit.\",\n",
    "         metadata={\n",
    "             'id' : 42,\n",
    "             'source' : \"https://www.loremipsum.com\",\n",
    "             'create_time' : \"2021-01-01 12:00:00\",\n",
    "         })"
   ]
  },
  {
   "cell_type": "markdown",
   "metadata": {},
   "source": [
    "## Models - The interface to the AI brains"
   ]
  },
  {
   "cell_type": "markdown",
   "metadata": {},
   "source": [
    "###  **Language Model**\n",
    "Un modello di linguaggio è un modello che prende in input una stringa di testo e restituisce una stringa di testo."
   ]
  },
  {
   "cell_type": "code",
   "execution_count": 6,
   "metadata": {},
   "outputs": [],
   "source": [
    "from langchain.llms import OpenAI\n",
    "\n",
    "llm = OpenAI(openai_api_key=openai_api_key)"
   ]
  },
  {
   "cell_type": "code",
   "execution_count": 7,
   "metadata": {},
   "outputs": [
    {
     "data": {
      "text/plain": [
       "'\\nSabato'"
      ]
     },
     "execution_count": 7,
     "metadata": {},
     "output_type": "execute_result"
    }
   ],
   "source": [
    "llm(my_text)"
   ]
  },
  {
   "cell_type": "markdown",
   "metadata": {},
   "source": [
    "### **Chat Model**\n",
    "Un modello di chat è un modello che prende in input una serie di messaggi e restituisce un messaggio di output"
   ]
  },
  {
   "cell_type": "code",
   "execution_count": 8,
   "metadata": {},
   "outputs": [],
   "source": [
    "from langchain.chat_models import ChatOpenAI\n",
    "\n",
    "chat = ChatOpenAI(temperature=1, openai_api_key=openai_api_key)"
   ]
  },
  {
   "cell_type": "code",
   "execution_count": 9,
   "metadata": {},
   "outputs": [
    {
     "data": {
      "text/plain": [
       "AIMessage(content='Dopo venerdì viene sabato.', additional_kwargs={}, example=False)"
      ]
     },
     "execution_count": 9,
     "metadata": {},
     "output_type": "execute_result"
    }
   ],
   "source": [
    "chat(history)"
   ]
  },
  {
   "cell_type": "markdown",
   "metadata": {},
   "source": [
    "### **Text Embedding Model**\n",
    "Un modello di embedding di testo è un modello che prende in input una stringa di testo e restituisce un vettore (una serie di numeri che rappresentano il significato semantico del testo).\n",
    "Principalmente utilizzato quando si confrontano due stringe di testo insieme.\n",
    "\n",
    "Vedi Word2Vec, sviluppata da Tomas Mikolov e il suo team presso Google nel 2013. [Paper](https://arxiv.org/pdf/1301.3781.pdf) e [video](https://www.youtube.com/watch?v=ERibwqs9p38).\n",
    "\n",
    "Esempio vicinanza semantica:\n",
    "![Word2Vec](../documents/Word-Vectors.webp)\n"
   ]
  },
  {
   "cell_type": "code",
   "execution_count": 9,
   "metadata": {},
   "outputs": [
    {
     "data": {
      "text/plain": [
       "[b'I',\n",
       " b\"'m\",\n",
       " b' playing',\n",
       " b' with',\n",
       " b' Transform',\n",
       " b'E',\n",
       " b'rs',\n",
       " b' models',\n",
       " b'.',\n",
       " b' They',\n",
       " b' are',\n",
       " b' so',\n",
       " b' cool',\n",
       " b' and',\n",
       " b' powerful',\n",
       " b'!']"
      ]
     },
     "execution_count": 9,
     "metadata": {},
     "output_type": "execute_result"
    }
   ],
   "source": [
    "import tiktoken\n",
    "\n",
    "encoding = tiktoken.get_encoding(\"cl100k_base\")\n",
    "\n",
    "text = \"I'm playing with TransformErs models. They are so cool and powerful!\"\n",
    "tokens_integer=encoding.encode(text)\n",
    "tokens_string = [encoding.decode_single_token_bytes(token) for token in tokens_integer]\n",
    "tokens_string"
   ]
  },
  {
   "cell_type": "markdown",
   "metadata": {},
   "source": [
    "OpenAI fornisce 3 tipi diversi di [modelli di embedding di testo](https://openai.com/blog/introducing-text-and-code-embeddings/):\n",
    "- Text similarity\n",
    "- Text search\n",
    "- Code search\n",
    "\n",
    "Recentemente sostiuti da uno all purpose: `text-embedding-ada-002`"
   ]
  },
  {
   "cell_type": "code",
   "execution_count": 10,
   "metadata": {},
   "outputs": [],
   "source": [
    "from langchain.embeddings import OpenAIEmbeddings\n",
    "\n",
    "embeddings = OpenAIEmbeddings(model='text-embedding-ada-002', openai_api_key=openai_api_key)"
   ]
  },
  {
   "cell_type": "code",
   "execution_count": 11,
   "metadata": {},
   "outputs": [],
   "source": [
    "text = \"Sono un appassionato di tecnologia e mi piace leggere libri di fantascienza.\""
   ]
  },
  {
   "cell_type": "code",
   "execution_count": 12,
   "metadata": {},
   "outputs": [
    {
     "name": "stdout",
     "output_type": "stream",
     "text": [
      "Your embedding is length 1536\n",
      "Here's a sample: [-0.005089135840535164, -0.003936416003853083, 0.00033378295483998954, -0.03288930654525757, -0.026169195771217346]...\n"
     ]
    }
   ],
   "source": [
    "text_embedding = embeddings.embed_query(text)\n",
    "print (f\"Your embedding is length {len(text_embedding)}\")\n",
    "print (f\"Here's a sample: {text_embedding[:5]}...\")"
   ]
  },
  {
   "cell_type": "markdown",
   "metadata": {},
   "source": [
    "Proviamo a vedere la distanza del testo tra altre due stringhe di testo:"
   ]
  },
  {
   "cell_type": "code",
   "execution_count": null,
   "metadata": {},
   "outputs": [],
   "source": [
    "! pip install scipy -q"
   ]
  },
  {
   "cell_type": "code",
   "execution_count": 24,
   "metadata": {},
   "outputs": [
    {
     "name": "stdout",
     "output_type": "stream",
     "text": [
      "Similarity between text and text_1: 0.8707874910326001\n",
      "Similarity between text and text_2: 0.7739510862634738\n"
     ]
    }
   ],
   "source": [
    "from scipy import spatial\n",
    "text_embedding_1 = embeddings.embed_query('Io amo i libri di Frank Herbert.')\n",
    "text_embedding_2 = embeddings.embed_query('Non riesco veramente a capire come installare Linux.')\n",
    "\n",
    "result_1 = 1 - spatial.distance.cosine(text_embedding, text_embedding_1)\n",
    "result_2 = 1 - spatial.distance.cosine(text_embedding, text_embedding_2)\n",
    "\n",
    "print (f\"Similarity between text and text_1: {result_1}\")\n",
    "print (f\"Similarity between text and text_2: {result_2}\")"
   ]
  },
  {
   "cell_type": "markdown",
   "metadata": {},
   "source": [
    "## Prompts - Testo utilizzato per dare istruzioni al tuo modello"
   ]
  },
  {
   "cell_type": "markdown",
   "metadata": {},
   "source": [
    "### **Prompt**\n",
    "Cosa dirai al tuo modello."
   ]
  },
  {
   "cell_type": "code",
   "execution_count": 22,
   "metadata": {},
   "outputs": [
    {
     "data": {
      "text/plain": [
       "'\\nThe statement is incorrect; tomorrow is Tuesday, not Wednesday.'"
      ]
     },
     "execution_count": 22,
     "metadata": {},
     "output_type": "execute_result"
    }
   ],
   "source": [
    "from langchain.llms import OpenAI\n",
    "\n",
    "llm = OpenAI( openai_api_key=openai_api_key)\n",
    "\n",
    "prompt = \"\"\"\n",
    "Today is Monday, tomorrow is Wednesday.\n",
    "\n",
    "What is wrong with that statement?\n",
    "\"\"\"\n",
    "\n",
    "llm(prompt)"
   ]
  },
  {
   "cell_type": "markdown",
   "metadata": {},
   "source": [
    "### **Prompt Template**\n",
    "Un oggetto che aiuta a creare prompt basati su una combinazione di input utente, altre informazioni non statiche e una stringa di modello fissa.\n",
    "\n",
    "Come se fosse una [f-string](https://realpython.com/python-f-strings/) in python ma per i prompt."
   ]
  },
  {
   "cell_type": "code",
   "execution_count": 23,
   "metadata": {},
   "outputs": [
    {
     "name": "stdout",
     "output_type": "stream",
     "text": [
      "Final Prompt: \n",
      "I really want to travel to Rome. What should I do there?\n",
      "\n",
      "Respond in one short sentence\n",
      "\n",
      "-----------\n",
      "LLM Output: Visit the Colosseum, the Vatican, and the Trevi fountain.\n"
     ]
    }
   ],
   "source": [
    "from langchain.llms import OpenAI\n",
    "from langchain import PromptTemplate\n",
    "\n",
    "llm = OpenAI(model_name=\"text-davinci-003\", openai_api_key=openai_api_key)\n",
    "\n",
    "# Notice \"location\" below, that is a placeholder for another value later\n",
    "template = \"\"\"\n",
    "I really want to travel to {location}. What should I do there?\n",
    "\n",
    "Respond in one short sentence\n",
    "\"\"\"\n",
    "\n",
    "prompt = PromptTemplate(\n",
    "    input_variables=[\"location\"],\n",
    "    template=template,\n",
    ")\n",
    "\n",
    "final_prompt = prompt.format(location='Rome')\n",
    "\n",
    "print (f\"Final Prompt: {final_prompt}\")\n",
    "print (\"-----------\")\n",
    "print (f\"LLM Output: {llm(final_prompt)}\")"
   ]
  },
  {
   "cell_type": "markdown",
   "metadata": {},
   "source": [
    "## Chains \n",
    "\n",
    "Un LLMChain è il tipo di catena più comune in LangChain. È composto da un PromptTemplate, un modello (LLM o ChatModel) e un parser di output opzionale. \n",
    "\n",
    "Cobinazione di diverse chiamate LLM e possibili azioni automatiche.\n",
    "\n",
    "Ex: Summary #1, Summary #2, Summary #3 > Final Summary\n",
    "\n",
    "Guarda [questo video](https://www.youtube.com/watch?v=f9_BWhCI4Zo&t=2s) che spiega i diversi tipi di summarization chains.\n",
    "\n",
    "Esistono diverse [tipi di chains](https://python.langchain.com/en/latest/modules/chains/how_to_guides.html), cerca di vedere quali sono le migliori per il tuo caso d'uso. \n",
    "\n",
    "Noi ne useremo due:"
   ]
  },
  {
   "cell_type": "markdown",
   "metadata": {},
   "source": [
    "### 1. Simple Sequential Chains\n",
    "\n",
    "Chains semplici in cui l'output di un LLM viene utilizzato come input in un altro. Ottimo per suddividere i compiti (e mantenere l' LLM focalizzato)."
   ]
  },
  {
   "cell_type": "code",
   "execution_count": 24,
   "metadata": {},
   "outputs": [],
   "source": [
    "from langchain.llms import OpenAI\n",
    "from langchain.chains import LLMChain\n",
    "from langchain.prompts import PromptTemplate\n",
    "from langchain.chains import SimpleSequentialChain\n",
    "\n",
    "llm = OpenAI(temperature=1, openai_api_key=openai_api_key)"
   ]
  },
  {
   "cell_type": "code",
   "execution_count": 25,
   "metadata": {},
   "outputs": [],
   "source": [
    "template = \"\"\"Your job is to come up with a classic dish from the area that the users suggests.\n",
    "% USER LOCATION\n",
    "{user_location}\n",
    "\n",
    "YOUR RESPONSE:\n",
    "\"\"\"\n",
    "prompt_template = PromptTemplate(input_variables=[\"user_location\"], template=template)\n",
    "\n",
    "# 'location' chain\n",
    "location_chain = LLMChain(llm=llm, prompt=prompt_template)"
   ]
  },
  {
   "cell_type": "code",
   "execution_count": 26,
   "metadata": {},
   "outputs": [
    {
     "data": {
      "text/plain": [
       "'A classic dish from Rome is Carbonara, which is a pasta dish made with egg, bacon, and cheese.'"
      ]
     },
     "execution_count": 26,
     "metadata": {},
     "output_type": "execute_result"
    }
   ],
   "source": [
    "# Proviamo la prima chain\n",
    "\n",
    "location_chain.run(\"Rome\")"
   ]
  },
  {
   "cell_type": "code",
   "execution_count": 27,
   "metadata": {},
   "outputs": [
    {
     "data": {
      "text/plain": [
       "[{'text': 'A classic dish from Paris would be Coq au Vin, a classic French dish of chicken braised in red wine with mushrooms, onions, and bacon.'},\n",
       " {'text': 'A classic dish from Berlin is the Berliner Eisbein, which is slow-cooked, pickled pork knuckle served with mashed potatoes and sauerkraut.'},\n",
       " {'text': 'A classic dish from Lisbon is the famous \"Bacalhau à Brás,\" a dish of shredded salted cod, potatoes, onions, black olives, and scrambled eggs.'}]"
      ]
     },
     "execution_count": 27,
     "metadata": {},
     "output_type": "execute_result"
    }
   ],
   "source": [
    "# Possibilità di fare batchin in input\n",
    "input_list = [\n",
    "    {\"user_location\": \"Paris\"},\n",
    "    {\"user_location\": \"Berlin\"},\n",
    "    {\"user_location\": \"Lisbon\"}\n",
    "]\n",
    "\n",
    "location_chain.apply(input_list)"
   ]
  },
  {
   "cell_type": "code",
   "execution_count": 28,
   "metadata": {},
   "outputs": [],
   "source": [
    "# Seconda chain\n",
    "\n",
    "template = \"\"\"Given a meal, give a short and simple recipe on how to make that dish at home.\n",
    "% MEAL\n",
    "{user_meal}\n",
    "\n",
    "YOUR RESPONSE:\n",
    "\"\"\"\n",
    "prompt_template = PromptTemplate(input_variables=[\"user_meal\"], template=template)\n",
    "\n",
    "# 'meal' chain\n",
    "meal_chain = LLMChain(llm=llm, prompt=prompt_template)"
   ]
  },
  {
   "cell_type": "code",
   "execution_count": 29,
   "metadata": {},
   "outputs": [],
   "source": [
    "overall_chain = SimpleSequentialChain(chains=[location_chain, meal_chain], verbose=True)"
   ]
  },
  {
   "cell_type": "code",
   "execution_count": 30,
   "metadata": {},
   "outputs": [
    {
     "name": "stdout",
     "output_type": "stream",
     "text": [
      "\n",
      "\n",
      "\u001b[1m> Entering new  chain...\u001b[0m\n",
      "\u001b[36;1m\u001b[1;3mSpaghetti alla Carbonara, a classic Roman dish with spaghetti, bacon, eggs, and Parmesan cheese.\u001b[0m\n",
      "\u001b[33;1m\u001b[1;3m- Boil 4oz of spaghetti for 12 minutes. \n",
      "- Sauté 8oz of bacon in a frying pan until crispy.\n",
      "- Beat two eggs in a bowl with a pinch of salt and freshly ground pepper. \n",
      "- Reserve a cup of the boiling water and then drain the spaghetti. \n",
      "- Place the spaghetti into the pan with the bacon. \n",
      "- Slowly add the egg mixture and the Parmesan cheese, stirring continuously. \n",
      "- Add the reserved boiling water if needed to obtain your desired consistency. \n",
      "- Serve with freshly ground pepper and extra Parmesan cheese. Enjoy!\u001b[0m\n",
      "\n",
      "\u001b[1m> Finished chain.\u001b[0m\n"
     ]
    }
   ],
   "source": [
    "review = overall_chain.run(\"Rome\")"
   ]
  },
  {
   "cell_type": "markdown",
   "metadata": {},
   "source": [
    "### 2. Summarization Chain\n",
    "Chain già implementata che summarizza facilmente lunghi documenti e ne ottiene un riassunto. Guarda [questo video](https://www.youtube.com/watch?v=f9_BWhCI4Zo) per altri tipi di chain oltre alla map-reduce."
   ]
  },
  {
   "cell_type": "code",
   "execution_count": null,
   "metadata": {},
   "outputs": [],
   "source": [
    "! pip install tiktoken -q"
   ]
  },
  {
   "cell_type": "code",
   "execution_count": 32,
   "metadata": {},
   "outputs": [
    {
     "name": "stdout",
     "output_type": "stream",
     "text": [
      "\n",
      "\n",
      "\u001b[1m> Entering new  chain...\u001b[0m\n",
      "\n",
      "\n",
      "\u001b[1m> Entering new  chain...\u001b[0m\n",
      "Prompt after formatting:\n",
      "\u001b[32;1m\u001b[1;3mWrite a concise summary of the following:\n",
      "\n",
      "\n",
      "\"Giuseppe Lippi\n",
      "Le origini della Fondazione\n",
      "Come è nato il più famoso ciclo fantascientifico\n",
      "di tutti i tempi\n",
      "Apparso sul n. 1203 di Urania (18 aprile 1993)\n",
      "È il mattino del 1° agosto 1941; a New York, nella Settima Avenue, un giovanotto\n",
      "di belle speranze sale i gradini del palazzo Street & Smith, la vecchia casa editrice\n",
      "specializzata in pulp magazines che pubblica Astounding Science Fiction (ex\n",
      "Astounding Stories). Il giovanotto ha un appuntamento col signor Campbell, sì, John\n",
      "W. Campbell jr., conferma all’usciere mentre attende impaziente il pass.\n",
      "Attraversa quindi alcuni corridoi, e finalmente (dopo la visione di una magica\"\n",
      "\n",
      "\n",
      "CONCISE SUMMARY:\u001b[0m\n",
      "Prompt after formatting:\n",
      "\u001b[32;1m\u001b[1;3mWrite a concise summary of the following:\n",
      "\n",
      "\n",
      "\"stanza in cui sono accumulati, in tanti pacchetti, gli Astounding del mese dopo!),\n",
      "accede all’ufficio del signor Campbell. Il giovanotto è Isaac Asimov, un promettente\n",
      "nuovo autore che ha già venduto cinque racconti e che si considera ormai uno di\n",
      "famiglia lì ad Astounding, il re del pulp di fantascienza. Quando si reca agli\n",
      "appuntamenti con Campbell – vere e proprie story conferences, come si dice oggi in\n",
      "gergo hollywoodiano – Asimov dimentica completamente il mondo esterno, non\n",
      "riesce che a pensare ad Astounding, al suo direttore ed ai racconti in fieri di cui\n",
      "dovranno parlare insieme.\n",
      "Così, oggi, 1° agosto 1941, Asimov non pensa all’ombra minacciosa di Hitler che\"\n",
      "\n",
      "\n",
      "CONCISE SUMMARY:\u001b[0m\n",
      "Prompt after formatting:\n",
      "\u001b[32;1m\u001b[1;3mWrite a concise summary of the following:\n",
      "\n",
      "\n",
      "\"sovrasta l’Europa, all’invasione della Russia od alla battaglia d’Inghilterra: ma al\n",
      "fatto che lui deve discutere un nuovo soggetto con Campbell, e che, purtroppo, non\n",
      "ha nessun nuovo soggetto in mente...\n",
      "Preso dalla disperazione (e mentre l’usciere lo annuncia al direttore), Asimov\n",
      "comincia a sfogliare nervosamente un volume che tiene sotto il braccio: sono i libretti\n",
      "di Gilbert & Sullivan, i famosi autori d’operette che rimarranno per tutta la vita gli\n",
      "idoli del nostro autore. Ed ecco, il libro si apre a caso su una pagina della Iolanthe in\n",
      "cui la Regina delle Fate si butta ai piedi del soldato Willis. Il soldato Willis... uhm,\"\n",
      "\n",
      "\n",
      "CONCISE SUMMARY:\u001b[0m\n",
      "Prompt after formatting:\n",
      "\u001b[32;1m\u001b[1;3mWrite a concise summary of the following:\n",
      "\n",
      "\n",
      "\"fantastica Asimov abbandonandosi alla libera associazione d’idee... Spesso, dove ci\n",
      "sono regine e soldati, c’è anche un impero. Come l’Impero Romano, per esempio.\n",
      "Che cadde nel 476 per far posto ad un lungo Medioevo... A questo punto, la scintilla:\n",
      "Asimov ha letto per ben due volte il Declino e caduta dell’impero romano di Gibbon\n",
      "e si è trastullato con l’idea di volgerlo in chiave fantascientifica. Ora sa di che cosa\n",
      "parlerà a Campbell: di un impero galattico e del suo crollo.\n",
      "Appena in tempo, perché l’usciere si fa da parte ed invita Asimov a entrare: il\n",
      "signor Campbell lo aspetta.\n",
      "John Wood Campbell è un pezzo d’uomo coi capelli tagliati a spazzola e gli\"\n",
      "\n",
      "\n",
      "CONCISE SUMMARY:\u001b[0m\n",
      "Prompt after formatting:\n",
      "\u001b[32;1m\u001b[1;3mWrite a concise summary of the following:\n",
      "\n",
      "\n",
      "\"occhiali con montatura d’acciaio. Il suo non è un grande ufficio, ma in quel momento\n",
      "gli occhi di Asimov luccicano: sulla scrivania ingombra di carte, in un angolo, spicca\n",
      "l’originale della copertina del numero di agosto, un bel disegno di Rogers che\n",
      "raffigura un gruppo di astronavi azzurrine sulle rampe di lancio e che illustra il\n",
      "racconto di Nat Schachner Jurisdiction. C’è anche il manoscritto di Robert Heinlein\n",
      "relativo alla seconda puntata de I figli di Matusalemme, uscita quello stesso mese. Le\n",
      "correzioni editoriali, a matita rossa, sono discrete ma evidenti. Ma il cuore di Asimov\n",
      "ha un tuffo quando scorge un secondo originale di Rogers, quello per il numero di\"\n",
      "\n",
      "\n",
      "CONCISE SUMMARY:\u001b[0m\n",
      "Prompt after formatting:\n",
      "\u001b[32;1m\u001b[1;3mWrite a concise summary of the following:\n",
      "\n",
      "\n",
      "\"settembre: illustra nientemeno che un suo racconto, il celebre Notturno!\n",
      "In un ufficio così c’è da perdere la testa, ed Asimov deve sedersi. Campbell\n",
      "capisce: la sindrome dell’autore giovane ha colpito ancora, e gli porge un bicchiere\n",
      "d’acqua.\n",
      "« Caro Asimov, di cosa parliamo oggi? ».\n",
      "Asimov fa appena in tempo a rispondere: « Di imperi galattici » che subito\n",
      "Campbell s’infiamma, l’idea lo ha conquistato, bisogna scrivere al più presto il\n",
      "racconto. Ne discutono insieme i particolari, e ben presto Campbell convince il suo\n",
      "scrittore che un’idea così non si può comprimere in una singola storia: ce ne vorranno\n",
      "due, tre, una serie. Facendo piccoli saltelli eccitati per la stanza (mentre Asimov lo\"\n",
      "\n",
      "\n",
      "CONCISE SUMMARY:\u001b[0m\n",
      "Prompt after formatting:\n",
      "\u001b[32;1m\u001b[1;3mWrite a concise summary of the following:\n",
      "\n",
      "\n",
      "\"guarda con un misto di soddisfazione e d’apprensione) Campbell si fa raccontare i\n",
      "dettagli, che il giovane collaboratore improvvisa lì per lì.\n",
      "Dunque, il Primo Impero Galattico è crollato: ci vorranno mille anni prima che il\n",
      "Secondo possa sorgere dalle sue ceneri, ed è di questo periodo d’interregno che si\n",
      "occuperà la serie. Vi saranno narrate le lotte, le difficoltà, gli imprevisti cui i difensori\n",
      "della pace galattica andranno incontro per porre fine al turbolento Medioevo\n",
      "stellare...\n",
      "A questo punto (è facile immaginarlo) Campbell si volta verso Asimov e fa\n",
      "schioccare le dita: « Caro Asimov, è tutto grandioso, assolutamente inedito, ma come\"\n",
      "\n",
      "\n",
      "CONCISE SUMMARY:\u001b[0m\n",
      "Prompt after formatting:\n",
      "\u001b[32;1m\u001b[1;3mWrite a concise summary of the following:\n",
      "\n",
      "\n",
      "\"può un Medioevo galattico durare solo mille anni? Andiamo, è ridicolo che su scala\n",
      "cosmica si debbano rispettare tempi e cronologie tipicamente terrestri! No, qui ci\n",
      "vuole una trovata... ».\n",
      "E così, mentre la story conference prosegue sempre più infervorata, Asimov e\n",
      "Campbell abborracciano assieme il concetto di Psicostoria. Si tratta di una scienza\n",
      "immaginaria in virtù della quale i ricostruttori dell’Impero potranno prevedere\n",
      "scientificamente ciò che avverrà negli anni d’interregno, influenzando direttamente\n",
      "gli eventi storici. In questo modo il terribile Medioevo galattico, destinato a durare\n",
      "trentamila anni, si ridurrà a soli mille.\"\n",
      "\n",
      "\n",
      "CONCISE SUMMARY:\u001b[0m\n",
      "Prompt after formatting:\n",
      "\u001b[32;1m\u001b[1;3mWrite a concise summary of the following:\n",
      "\n",
      "\n",
      "\"trentamila anni, si ridurrà a soli mille.\n",
      "Campbell e Asimov si lasciano il primo agosto su questa intesa; Asimov corre a\n",
      "casa, scrive il racconto (intitolato Foundation) e lo spedisce l’8 settembre. Vedrà la\n",
      "luce sul numero di Astounding datato maggio 1942. Asimov, che fin da quei giorni\n",
      "lontani è un saggio amministratore di se stesso, fa in modo che il racconto termini su\n",
      "un momento di grande suspense: in questa maniera non c’è pericolo che Campbell\n",
      "cambi idea e annulli il progetto di una serie.\n",
      "Ma il nostro autore ha fatto i conti senza l’oste, e cioè la sua immaginazione. Che,\n",
      "a quanto pare, si rifiuta categoricamente di escogitare nuove avventure per i seguaci\"\n",
      "\n",
      "\n",
      "CONCISE SUMMARY:\u001b[0m\n",
      "Prompt after formatting:\n",
      "\u001b[32;1m\u001b[1;3mWrite a concise summary of the following:\n",
      "\n",
      "\n",
      "\"di Hari Seldon ed i suoi psicostorici, i soli uomini capaci di far risorgere l’Impero\n",
      "abbattuto. Il 2 novembre del 1941 – come Asimov annota nel suo diario – lo scrittore,\n",
      "sconfortato, incontra l’amico Frederik Pohl sul ponte di Brooklyn. Gli confida in\n",
      "breve le sue ambasce, specificando che da quasi dieci giorni tenta inutilmente di dare\n",
      "un seguito a Foundation. Pohl ribatte qualcosa che Asimov non ricorda, ma che\n",
      "evidentemente mette in moto un meccanismo inconscio. Tornato a casa, infatti, il\n",
      "nostro autore siede al tavolino e comincia a comporre diligentemente Bridle and\n",
      "Saddle, il secondo episodio della serie (pubblicato su Astounding del giugno 1942).\"\n",
      "\n",
      "\n",
      "CONCISE SUMMARY:\u001b[0m\n",
      "Prompt after formatting:\n",
      "\u001b[32;1m\u001b[1;3mWrite a concise summary of the following:\n",
      "\n",
      "\n",
      "\"Superato questo scoglio, dice Asimov, i racconti successivi verranno scritti\n",
      "facilmente. Si tratta di: The Big and the Little (agosto 1944), The Wedge (ottobre\n",
      "1944), Dead Hand (aprile 1945) e The Mule, pubblicato in due parti nei numeri di\n",
      "novembre e dicembre 1945: quando apparirà la seconda puntata, Asimov sarà ormai\n",
      "sotto le armi.\n",
      "Terminato il servizio militare, il nostro scrive Now You See It (gennaio 1948) e si\n",
      "rende conto che la serie della Fondazione ormai l’ha un po’ stufato. Nelle sue parole:\n",
      "« Mi ero stancato del ciclo della Fondazione, così in Now You See It cercai di porvi\n",
      "fine, risolvendo il mistero dell'ubicazione della Seconda Fondazione. Ma Campbell,\"\n",
      "\n",
      "\n",
      "CONCISE SUMMARY:\u001b[0m\n",
      "Prompt after formatting:\n",
      "\u001b[32;1m\u001b[1;3mWrite a concise summary of the following:\n",
      "\n",
      "\n",
      "\"quando lo lesse, non ne volle sentir parlare: mi obbligò a riscrivere il finale ed\n",
      "ottenne la promessa che avrei preparato almeno un altro racconto ». La storia\n",
      "conclusiva appare sui numeri di Astounding del novembre 1949, dicembre 1949 e\n",
      "gennaio 1950, divisa in tre puntate. Si intitola And Now You Don’t, forse l’inizio di\n",
      "una minacciosa protesta nei confronti di Campbell: « E adesso non ti azzardare a\n",
      "chiedermi un seguito ».\n",
      "Otto anni della sua vita, un totale di 220 mila parole: è questo il bilancio che\n",
      "Asimov fa guardandosi alle spalle e ripensando all’avventurosa storia del ciclo della\n",
      "Fondazione. L’ultimo racconto esce all’inizio di una nuova fase della sua carriera:\"\n",
      "\n",
      "\n",
      "CONCISE SUMMARY:\u001b[0m\n",
      "Prompt after formatting:\n",
      "\u001b[32;1m\u001b[1;3mWrite a concise summary of the following:\n",
      "\n",
      "\n",
      "\"ormai il nostro è diventato professore di biochimica alla Facoltà di Medicina\n",
      "dell’Università di Boston, ha pubblicato il suo primo libro e non pensa più agli imperi\n",
      "galattici. Ma come spesso succede, e a dispetto del suo creatore, la creatura non vuol\n",
      "saperne di morire.\n",
      "Chi pensava che il ciclo della Fondazione dovesse languire per sempre nelle pagine\n",
      "di Astounding, sbagliava di grosso: negli anni Cinquanta la fantascienza comincia a\n",
      "venire pubblicata anche al di fuori delle riviste, sia in paperback che in edizioni\n",
      "rilegate. Asimov fotocopia diligentemente i racconti della Fondazione e li sottopone a\n",
      "due case importanti, ma sia Doubleday (destinato, in futuro, a diventare il suo editore\"\n",
      "\n",
      "\n",
      "CONCISE SUMMARY:\u001b[0m\n",
      "Prompt after formatting:\n",
      "\u001b[32;1m\u001b[1;3mWrite a concise summary of the following:\n",
      "\n",
      "\n",
      "\"permanente) sia Little Brown respingono il serial. Ne è invece attratta una piccola\n",
      "ditta specializzata in fantascienza, la Gnome Press, fondata nel 1950. L’editore\n",
      "accetta di pubblicare il ciclo in edizione rilegata, ma chiede ad Asimov il piccolo\n",
      "sforzo di scrivere un supplemento introduttivo, perché ha la sensazione che il primo\n",
      "racconto cominci troppo bruscamente. Nel 1951, dunque, vede la luce Foundation,\n",
      "che raccoglie l’introduzione e le prime quattro storie originali; nel 1952 è la volta di\n",
      "Foundation and Empire (con la quinta e la sesta storia) e nel 1953 Second\n",
      "Foundation, con i racconti numero sette ed otto.\"\n",
      "\n",
      "\n",
      "CONCISE SUMMARY:\u001b[0m\n",
      "Prompt after formatting:\n",
      "\u001b[32;1m\u001b[1;3mWrite a concise summary of the following:\n",
      "\n",
      "\n",
      "\"Foundation, con i racconti numero sette ed otto.\n",
      "Purtroppo, però, Gnome è un editore quasi amatoriale: Asimov non percepisce un\n",
      "solo centesimo di diritti d’autore, e questa situazione esasperante dura dieci anni\n",
      "buoni. Le cose cambiano nel 1961, quando la Doubleday che è ormai diventata la\n",
      "casa fissa di Isaac Asimov, almeno per quel che concerne la fantascienza – riceve una\n",
      "richiesta di traduzione del ciclo da parte di un editore portoghese. Dato che la serie\n",
      "della Fondazione non le appartiene, Doubleday gira la richiesta ad Asimov, il quale si\n",
      "sfoga sconfortato col suo editor; « Al diavolo, Tim, quei libri sono fuori del mio\"\n",
      "\n",
      "\n",
      "CONCISE SUMMARY:\u001b[0m\n",
      "Prompt after formatting:\n",
      "\u001b[32;1m\u001b[1;3mWrite a concise summary of the following:\n",
      "\n",
      "\n",
      "\"controllo ». Timothy Seldes provvede subito a che le cose cambino, acquistando dalla\n",
      "Gnome tutti i diritti. L’accordo è raggiunto nell’agosto ’61: Doubleday stamperà\n",
      "l’edizione rilegata e la Avon Books quella tascabile (anche se negli anni precedenti\n",
      "c’è stata una versione economica, parziale, presso la Ace).\n",
      "È da questo momento che il ciclo diviene patrimonio di quel vasto pubblico che\n",
      "ignora tutto di Astounding, che storcerebbe la bocca al solo sentir nominare un\n",
      "“dinosauro” come Campbell ma che di fatto comincia ad appassionarsi alla\n",
      "fantascienza.\n",
      "L’edizione italiana è del 1963-64; l’edizione omnibus dello Science Fiction Book\"\n",
      "\n",
      "\n",
      "CONCISE SUMMARY:\u001b[0m\n",
      "Prompt after formatting:\n",
      "\u001b[32;1m\u001b[1;3mWrite a concise summary of the following:\n",
      "\n",
      "\n",
      "\"Club americano viene costantemente ristampata da vent’anni. Migliaia di lettori\n",
      "scrivono ad Asimov, decretando che il ciclo della Fondazione sia la sua opera più\n",
      "riuscita. Questa opinione viene ufficializzata nel 1966, quando la trilogia galattica\n",
      "riceve il premio Hugo per il miglior ciclo di tutti i tempi, battendo Il Signore degli\n",
      "Anelli di Tolkien.\n",
      "A differenza di altre opere di successo “datate”, a cui si è pensato di dare un\n",
      "seguito per ragioni puramente commerciali, il ciclo della Fondazione non ha mai\n",
      "smesso di suscitare richieste di “ancora!” da parte dei fans. Ad un certo punto un\n",
      "collega di Asimov, lo scrittore Lester del Rey, ha minacciato di scrivere lui stesso il\"\n",
      "\n",
      "\n",
      "CONCISE SUMMARY:\u001b[0m\n",
      "Prompt after formatting:\n",
      "\u001b[32;1m\u001b[1;3mWrite a concise summary of the following:\n",
      "\n",
      "\n",
      "\"seguito, se Isaac si fosse intestardito a non farlo. E così, dopo varie pressioni, nel\n",
      "1971 Asimov siede alla macchina per scrivere e in cima a un virginale foglio bianco\n",
      "batte il titolo del suo nuovo romanzo: The Lightining Rod, capitolo numero quattro\n",
      "dell’ex trilogia galattica. Ma si arresta dopo sole quattordici cartelle. « Negli anni\n",
      "Quaranta – scriverà, a sua parziale discolpa – mi trovavo nello stato d’animo adatto\n",
      "ad immaginare le avventure della Fondazione. Trent’anni dopo non lo ero più: ormai\n",
      "scrivevo pochissima narrativa e il grosso del mio lavoro era rappresentato dai saggi e\n",
      "dai libri di divulgazione. Nemmeno la rilettura dei primi tre tomi del ciclo era bastata\"\n",
      "\n",
      "\n",
      "CONCISE SUMMARY:\u001b[0m\n",
      "Prompt after formatting:\n",
      "\u001b[32;1m\u001b[1;3mWrite a concise summary of the following:\n",
      "\n",
      "\n",
      "\"a ispirarmi... Anzi, preso dal terrore, mi ero domandato: ma che diavolo ci troverà, la\n",
      "gente, in una storia come questa? »\n",
      "Eppure, la gente continuava a trovarla irresistibile. Passano altri dieci anni: l’attesa\n",
      "del pubblico è così spasmodica che un pittore milanese appassionato di fantascienza,\n",
      "Giuseppe Festino, “ricostruisce” un’ipotetica copertina della rivista Urania in cui si\n",
      "presenta il tanto atteso seguito della trilogia. Il titolo immaginato da Festino per\n",
      "l’edizione italiana è “Terza Fondazione”. Molti appassionati prendono la burla per\n",
      "vera, e così, quando si diffonde la notizia che Asimov sta lavorando davvero al quarto\"\n",
      "\n",
      "\n",
      "CONCISE SUMMARY:\u001b[0m\n",
      "Prompt after formatting:\n",
      "\u001b[32;1m\u001b[1;3mWrite a concise summary of the following:\n",
      "\n",
      "\n",
      "\"libro della saga, accettano la cosa con una punta di condiscendenza: “loro” sapevano\n",
      "già.\n",
      "Invece si tratta di una coincidenza clamorosa: ed i più informati (i quali sapevano\n",
      "benissimo che Festino aveva disegnato per il puro piacere di farlo, senza nessuna\n",
      "“spifferata” da oltreoceano) restano di sasso quando il miracolo s’avvera. Certo, il\n",
      "romanzo non s’intitola Third Foundation, certo, la sua prima edizione non vedrà la\n",
      "luce in Urania, ma la profetica anticipazione non perde nulla della sua magia.\n",
      "Per scrivere L’orlo della Fondazione Asimov subisce una sorta di ricatto alla\n",
      "rovescia: la Doubleday gli spedisce un assegno di 25 mila dollari prima ancora che\"\n",
      "\n",
      "\n",
      "CONCISE SUMMARY:\u001b[0m\n",
      "Prompt after formatting:\n",
      "\u001b[32;1m\u001b[1;3mWrite a concise summary of the following:\n",
      "\n",
      "\n",
      "\"lui si metta al lavoro. Ed un anticipo sull’anticipo: alla consegna del manoscritto\n",
      "seguiranno altri 25 mila dollari, poi, naturalmente, i diritti d’autore non appena il\n",
      "romanzo avrà cominciato la sua fortunata tournée nel mondo.\n",
      "Sulle prime Asimov vorrebbe rifiutare: ma Betty Prashker, senior editor alla\n",
      "Doubleday, è irremovibile. Tienti l’assegno e goditelo, dice. Ah, pensa il povero\n",
      "Asimov, Godermelo! Come faccio a godermelo, quando so di essere indebitato per\n",
      "cinquantamila dollari?\n",
      "Non gli resta che sedersi alla macchina per scrivere, rispolverare le quattordici\n",
      "cartelle di The Lightning Rod e battere in cima al foglio virginale un nuovo titolo.\"\n",
      "\n",
      "\n",
      "CONCISE SUMMARY:\u001b[0m\n",
      "Prompt after formatting:\n",
      "\u001b[32;1m\u001b[1;3mWrite a concise summary of the following:\n",
      "\n",
      "\n",
      "\"Cominciato nel giugno 1981, Foundation’s Edge viene consegnato agli editori il 25\n",
      "marzo 1982. Inizialmente l’autore pensa di mantenere il vecchio titolo, The Lightning\n",
      "Rod; ma gli fanno presente che sarebbe carino se la parola “Fondazione” si potesse in\n",
      "qualche modo incorporare. Asimov propone quindi Foundations at Bay (“Scacco alle\n",
      "Fondazioni”), per giungere infine al più lapidario Foundation’s Edge.\n",
      "E questa è tutta la storia.\n",
      "Il tema centrale della saga è quello del crollo di un gigantesco impero galattico e\n",
      "dei problemi che sorgono per abbreviare il turbolento periodo d’interregno. Il genere\n",
      "“imperi galattici” non è un’invenzione di Asimov, sebbene la fantascienza abbia\"\n",
      "\n",
      "\n",
      "CONCISE SUMMARY:\u001b[0m\n",
      "Prompt after formatting:\n",
      "\u001b[32;1m\u001b[1;3mWrite a concise summary of the following:\n",
      "\n",
      "\n",
      "\"cominciato a farne un uso cosciente più o meno negli stessi anni in cui prendeva\n",
      "corpo il ciclo della Fondazione. Perché non prima?\n",
      "Ma innanzitutto per una questione di scope, cioè di grandezza degli orizzonti: la\n",
      "neonata science fiction degli anni Venti e Trenta impiegò un certo tempo per rendersi\n",
      "conto delle sue potenzialità, per capire che sì, la velocità della luce poteva essere\n",
      "infranta, che l’uomo poteva spingersi fuori del sistema solare, che le stelle – sia pure\n",
      "a prezzo di avventure titaniche – potevano venir “domate” e raggruppate in ideali\n",
      "Federazioni. Questi, piccoli miracoli di “allargamento dell’orizzonte” avvennero, più\"\n",
      "\n",
      "\n",
      "CONCISE SUMMARY:\u001b[0m\n",
      "Prompt after formatting:\n",
      "\u001b[32;1m\u001b[1;3mWrite a concise summary of the following:\n",
      "\n",
      "\n",
      "\"o meno, fra il 1928 ed il 1940. Solo allora cominciò a lavorare una generazione di\n",
      "scrittori che si era formata leggendo la fantascienza altrui, e che quindi, più che\n",
      "essere preoccupata di rendere accettabili determinate convenzioni (il viaggio nello\n",
      "spazio, nel tempo, ecc.) le dava per scontate e le portava alle loro estreme\n",
      "conseguenze.\n",
      "Il ciclo della Fondazione di Asimov non sarebbe stato possibile senza le avventure\n",
      "della Pattuglia Galattica e dei Lensmen di E.E. “Doc” Smith; della Legione di\n",
      "Williamson; della Federazione di Edmond Hamilton (in quei classici della space\n",
      "opera che sono L’invasione della galassia e I soli che si scontrano).\"\n",
      "\n",
      "\n",
      "CONCISE SUMMARY:\u001b[0m\n",
      "Prompt after formatting:\n",
      "\u001b[32;1m\u001b[1;3mWrite a concise summary of the following:\n",
      "\n",
      "\n",
      "\"Perché un impero galattico sia concepibile, infatti, occorre: a) postulare non solo il\n",
      "raggiungimento, ma il superamento della velocità della luce, cosa teoricamente\n",
      "impossibile per i fisici ma poeticamente ammissibile dagli scrittori; b) l’esistenza di\n",
      "una forma d’amministrazione così complessa da rendere possibile una civiltà\n",
      "relativamente omogenea pur se sparsa su stelle distanti fra loro; c) lo sviluppo,\n",
      "quindi, di una vera e propria “diplomazia” stellare, di una politica stellare e così via;\n",
      "d) l’ammissione che la storia dell’uomo non si svolga più su un piano planetario, ma\n",
      "universale. È un balzo concettuale notevole, perché significa il passaggio da storia\"\n",
      "\n",
      "\n",
      "CONCISE SUMMARY:\u001b[0m\n",
      "Prompt after formatting:\n",
      "\u001b[32;1m\u001b[1;3mWrite a concise summary of the following:\n",
      "\n",
      "\n",
      "\"microcosmica a “macrocosmica”: uomo e universo si ritrovano, coincidono.\n",
      "Naturalmente, per la loro stessa “grandiosità”, i racconti sugli imperi galattici\n",
      "fanno acqua da tutte le parti se esaminati da un punto di vista logico. Come\n",
      "giustamente sostiene lo scrittore inglese Brian W. Aldiss, che all’argomento ha\n",
      "dedicato un’esemplare antologia (Imperi galattici), questi racconti piacciono in\n",
      "definitiva più per il loro sapore di “kolossal”, di film in costume, di avventura per\n",
      "l’avventura, che non per le implicazioni concettuali... Salvo alcune eccezioni.\n",
      "La serie della Fondazione rappresenta la più celebre e, forse, la più riuscita di\"\n",
      "\n",
      "\n",
      "CONCISE SUMMARY:\u001b[0m\n",
      "Prompt after formatting:\n",
      "\u001b[32;1m\u001b[1;3mWrite a concise summary of the following:\n",
      "\n",
      "\n",
      "\"queste eccezioni. Il suo fascino non risiede infatti in quell’amalgama di colori violenti\n",
      "e forti sensazioni per cui amiamo la space opera “calda” (Hamilton o Williamson),\n",
      "ma nella “credibilità”, o almeno nella relativa complessità con cui è costruito lo\n",
      "scenario ed è mandata avanti l’azione. Nella galassia di Asimov, insomma, non\n",
      "contano le battaglie di mostri verdi (che infatti sono assenti), quanto le nozioni di\n",
      "politica stellare, di economia, le schermaglie diplomatiche e scientifiche. E a chi,\n",
      "inorridito, si ritraesse dicendo: « Ma è suspense, questa? », dovremmo rispondere: sì,\n",
      "è suspense, perché Asimov riesce a tramutare quella che all’inizio sembrava solo una\"\n",
      "\n",
      "\n",
      "CONCISE SUMMARY:\u001b[0m\n",
      "Prompt after formatting:\n",
      "\u001b[32;1m\u001b[1;3mWrite a concise summary of the following:\n",
      "\n",
      "\n",
      "\"complicata partita a Monopoli in un’avventura affascinante, ricchissima di colpi di\n",
      "scena, imprevisti, trabocchetti, tale da far invidia al più consumato romanziere\n",
      "d’avventure.\n",
      "Con la differenza, ripetiamo, che le avventure di Asimov sono imperniate\n",
      "sull’elasticità degli intelletti piuttosto che su quella dei muscoli; sulle battaglie\n",
      "politiche piuttosto che su quelle coi cannoni laser. Il “movimento” di questa\n",
      "movimentatissima saga è di tipo cerebrale: la trilogia della Fondazione può a buon\n",
      "diritto definirsi la “summa” della cosiddetta Età d’Oro della fantascienza, cioè di\n",
      "quegli anni Quaranta che furono dominati da Astouning e dal suo direttore Campbell.\"\n",
      "\n",
      "\n",
      "CONCISE SUMMARY:\u001b[0m\n",
      "Prompt after formatting:\n",
      "\u001b[32;1m\u001b[1;3mWrite a concise summary of the following:\n",
      "\n",
      "\n",
      "\"In quegli anni i lettori scoprirono, accanto all’intramontabile sense of wonder, il\n",
      "nuovo piacere della speculazione, dell’idea sofisticata e molto elaborata. A questo\n",
      "tipo di fantascienza Asimov ed alcuni colleghi – soprattutto il complesso ed\n",
      "affascinante Robert Heinlein – hanno dato parecchi capolavori.\n",
      "Con Fondazione siamo in presenza di uno dei cicli di fantascienza più\n",
      "soddisfacenti d’ogni tempo.\n",
      "L’impero galattico di Asimov è costruito non solo su tutta la serie di premesse che\n",
      "elencavamo sopra (superamento della velocità della luce. civiltà stellare, storia a\n",
      "livello cosmico, ecc.) ma su alcune idee originali e specifiche che qui trovano\"\n",
      "\n",
      "\n",
      "CONCISE SUMMARY:\u001b[0m\n",
      "Prompt after formatting:\n",
      "\u001b[32;1m\u001b[1;3mWrite a concise summary of the following:\n",
      "\n",
      "\n",
      "\"fortunata applicazione. In primo luogo, il concetto di Fondazione: Asimov ritiene che\n",
      "per salvare la galassia dal caos sia necessaria l’opera di scienziati avanzatissimi, e\n",
      "sono appunto questi scienziati a popolare le Fondazioni istituite centinaia d’anni\n",
      "addietro da Hari Seldon, l’inventore della Psicostoria.\n",
      "In secondo luogo, la Psicostoria stessa: questa scienza immaginaria non è, al\n",
      "contrario di quel che si potrebbe pensare, la parente prossima di un fosco\n",
      "determinismo, ma si basa in sostanza sulle leggi della statistica. Se il comportamento\n",
      "del singolo è imprevedibile, dice Asimov (o meglio Hari Seldon), il comportamento\"\n",
      "\n",
      "\n",
      "CONCISE SUMMARY:\u001b[0m\n",
      "Prompt after formatting:\n",
      "\u001b[32;1m\u001b[1;3mWrite a concise summary of the following:\n",
      "\n",
      "\n",
      "\"di grandi masse di individui è statisticamente inquadrabile in una serie di tendenze.\n",
      "Quanto più vasta è la porzione di umanità presa in esame, tanto più precise\n",
      "risulteranno le “previsioni” dei suoi movimenti di massima. Grazie alla Psicostoria il\n",
      "lunghissimo interregno fra il crollo del Primo Impero e l’avvento del Secondo verrà\n",
      "accorciato a proporzioni sopportabili. Ma il bello di uno scrittore come Asimov è che\n",
      "non si limita a postulare un’idea e a farla campare di rendita: no, si diverte a\n",
      "contraddirla, a immaginare gli ostacoli che le sbarreranno il passo, ad inventare i\n",
      "tranelli a cui andranno incontro le soluzioni prospettate solo un minuto prima. È da\"\n",
      "\n",
      "\n",
      "CONCISE SUMMARY:\u001b[0m\n",
      "Prompt after formatting:\n",
      "\u001b[32;1m\u001b[1;3mWrite a concise summary of the following:\n",
      "\n",
      "\n",
      "\"qui che nasce la suspense, il senso del mistero: e nel caso del ciclo della Fondazione\n",
      "quest’imprevisto si chiama Mulo, un essere dotato di poteri “psi” che proprio per\n",
      "questo rischia di mandare all’aria il lunghissimo lavorio delle Fondazioni.\n",
      "Ma i pericoli e gli imprevisti si moltiplicano nei successivi romanzi, da\n",
      "Fondazione e Terra a I robot e l’Impero fino al Preludio alla Fondazione che\n",
      "Asimov ha scritto nel corso degli anni Ottanta.\n",
      "Fondazione anno zero, il suo ultimo libro, è stato completato poco prima della\n",
      "morte dello scrittore, avvenuta nell’aprile 1992. È la storia su cui il cerchio si chiude.\"\n",
      "\n",
      "\n",
      "CONCISE SUMMARY:\u001b[0m\n"
     ]
    },
    {
     "name": "stdout",
     "output_type": "stream",
     "text": [
      "\n",
      "\u001b[1m> Finished chain.\u001b[0m\n",
      "\n",
      "\n",
      "\u001b[1m> Entering new  chain...\u001b[0m\n",
      "Prompt after formatting:\n",
      "\u001b[32;1m\u001b[1;3mWrite a concise summary of the following:\n",
      "\n",
      "\n",
      "\"\n",
      "This story begins on August 1st, 1941, when a young man with ambition arrives at the Street & Smith publishing house. After settling in he has a meeting with John W. Campbell Jr., the editor of the 'Astounding Science Fiction' magazine. Through this meeting, he creates the most famous science fiction series of all time.\n",
      "\n",
      "\n",
      "Isaac Asimov, a promising new author who has already sold five stories, pays a visit to John Campbell's office at Astounding Science Fiction. During their story conferences, Asimov forgets the world outside and focuses solely on Astounding, Campbell, and the stories they are discussing. On August 1st, 1941, Asimov does not think about the looming threat of Hitler.\n",
      "\n",
      " Feeling desperate due to not having a case to present to his boss, Asimov randomly opens a book to find a page from Gilbert & Sullivan's Iolanthe in which the Queen of the Fairies falls at the feet of Soldier Willis. This sparks an idea that he could use to divert his boss's attention away from hearing the urgent news of either the Russian invasion or the battle of England.\n",
      "\n",
      " Isaac Asimov develops the idea of a fictional galactic empire based on the Roman Empire and its decline. He reads Gibbon's Decline and Fall of the Roman Empire twice and pitches the idea to John Wood Campbell. Campbell is described as a large man with short cut hair.\n",
      "\n",
      " Il piccolo ufficio di Asimov è ingombro di carte, eppure non può non essere entusiasta quando si ritrova con la copertina originale del numero di agosto, un dipinto di Rogers delle astronavi azzurrine, e anche il manoscritto di Robert Heinlein ed un secondo originale di Rogers per il numero di novembre.\n",
      "\n",
      " In un ufficio, il celebre scrittore Isaac Asimov incontra John W. Campbell Jr., direttore di Astounding Science Fiction. Campbell capisce di aver a che fare con un giovane autore sindrome e gli offre un bicchiere d'acqua. Discutono di un'idea di imperi galattici e Campbell lo convince a scrivere una serie di racconti invece di uno. Entrambi sono entusiasti per la loro conversazione e saltellano eccitati per la stanza.\n",
      "\n",
      "\n",
      "John Campbell, a publishing director, listens to a story about the collapse of the First Galactic Empire and the rise of the Second. The series will focus on the struggles and challenges that the peacekeepers will face during the interregnum period. After hearing the story, Campbell is impressed and turns to Asimov, clapping his hands to express his enthusiasm for the original concept.\n",
      "\n",
      " Asimov and Campbell discuss the concept of Psicostoria, an imaginary science by which the builders of the Empire can predict and influence galactic events in order to reduce the 30,000-year-long galactic Middle Ages to only 1000 years.\n",
      "\n",
      " I Campbell e Asimov si sono accordati per iniziare una serie intitolata 'Foundation' ma Asimov ha intenzionalmente scritto il primo racconto con una suspense grande per assicurarsi che Campbell non cambiasse idea. Tuttavia l'immaginazione di Asimov gli ha giocato un brutto scherzo, rifiutandosi di fornire nuove idee per le avventure future.\n",
      "\n",
      " In November 1941, Isaac Asimov meets with friend Frederik Pohl on the Brooklyn Bridge and expresses his struggles trying to write the second episode of his \"Foundation\" series. Pohl unknowingly triggers something in Asimov and he returns home where he quickly begins writing the second episode, entitled \"Bridle and Saddle,\" which was published in June of 1942.\n",
      "\n",
      " \n",
      "Asimov wrote several stories in a series called the Foundation, beginning with The Big and the Little and ending with Now You See It. Dead Hand and The Mule were two notable installments of the stories which were written while Asimov was in the military. After his service ended, Asimov wrote Now You See It to try to end the series, but was encouraged by Campbell to continue the stories.\n",
      "\n",
      " Isaac Asimov's innovative sci-fi series, The Foundation, culminates in And Now You Don't appearing in three parts over Astounding magazines in Nov 1949, Dec 1949, and Jan 1950. After 8 years and 220,000 words, the series comes to a close as Asimov begins a new chapter in his writing career.\n",
      "\n",
      " After the success of his first book, the creator of the Fondation cycle, Isaac Asimov, begins to have the idea of publishing it outside of his magazine. He copywrites the stories and sends them to two publishing houses, Doubleday and Penguin, in hopes that it will be accepted.\n",
      "\n",
      "\n",
      "\n",
      "In 1950, Asimov's 'Foundation' series was accepted by the small science-fiction publisher, Gnome Press. Gnome Press asked Asimov to write an introductory supplement, and in 1951 they published 'Foundation', with four original stories. In 1952, 'Foundation and Empire' was published with two additional stories, and in 1953 'Second Foundation' was published with two more stories.\n",
      "\n",
      " Isaac Asimov non guadagnò nulla dai racconti sette ed otto della sua serie di Fondazione per dieci anni fino a quando un editore portoghese contattò la Doubleday (diventata la sua casa di fantascienza) per chiedere l'autorizzazione a tradurre la serie. Asimov si arrabbiò con il suo editore perché i diritti di quei libri non gli appartenevano.\n",
      "\n",
      " Nel 1961, Timothy Seldes acquista i diritti dei romanzi della serie controllo da Gnome Productions, permettendo a Doubleday e Avon Books di pubblicare le edizioni rilegate e tascabili. Grazie a questo accordo, la fantascienza è stata introdotta a un vasto pubblico che era precedentemente ignaro di Astounding. Nel 1963-64, è stata pubblicata anche l'edizione omnibus italiana dello Science Fiction Book.\n",
      "\n",
      " Since its initial publication 20 years ago, Isaac Asimov's \"Foundation\" series has enjoyed immense success, solidified in 1966 by winning the Hugo Award for Best All-Time Series, surpassing Tolkien's \"The Lord of the Rings.\" The growing fan-base's demand for more of Asimov's work was so great that his colleague Lester del Rey even threatened to write a continuation himself.\n",
      "\n",
      " In 1971, Isaac Asimov began writing the 4th installment to the 'Galactic Trilogies' series, The Lightening Rod. He only wrote 14 chapters before stopping. He later realized he was no longer in the mindset to write stories as he had in the 1940s and instead focused much more on essays and books of popular science. His re-read of the first three books of the cycle was not enough to bring back the inspiration.\n",
      "\n",
      "\n",
      "Novella di fantascienza di Asimov, che aveva inizialmente saputo che la gente trovava irresistible la storia, ma aveva dato ascolto alle proprie paure. Passeranno dieci anni prima che l'attesa salga a un livello tale che un appassionato italiano ricostruirà una ipotetica copertina di una rivista per presentare il seguito della trilogia. La burla viene scambiata per reale e finalmente Asimov decide di lavorare al quarto.\n",
      "\n",
      " Una coincidenza clamorosa, dopo anni di teorie, avvera quando il romanzo 'L'orlo della Fondazione' (scritto da Asimov) esce, dopo che lui aveva disegnato per il suo piacere. Alla rovescia, la Doubleday gli spedisce un assegno di 25 mila dollari, prima della prima edizione del romanzo.\n",
      "\n",
      " \n",
      "Isaac Asimov is offered an advance of 25,000 dollars for a new book deal, but is hesitant to accept it as it will leave him with a $50,000 debt. Betty Prashker, a senior editor at Doubleday pushes Asimov to accept and continue writing. Asimov puts himself to work, reviving his manuscript \"The Lightning Rod\" and setting the title for the new book.\n",
      "\n",
      " Foundation's Edge, written by Isaac Asimov in June 1981, is the fourth book in the Foundation saga. The book is focused on the collapse of a giant galactic empire and the issues associated with the tumultuous interim period. Although the genre of \"galactic empires\" existed prior, Asimov's work has become a staple in the science fiction genre.\n",
      "\n",
      "\n",
      "The science-fiction authors of the 1920s and 1930s slowly began to realise the potential of their genre and were able to break the speed of light, explore worlds beyond our system, and create idealized versions of Federations of stars. These small miracles of expanding horizons occurred more or less in the same years as the Foundation cycle began to take form.\n",
      "\n",
      " Tra il 1928 ed il 1940 una generazione di scrittori appassionati di fantascienza iniziò a lavorare, portando le convenzioni della fantascienza come viaggi nello spazio e nel tempo alle loro estreme conseguenze. La produzione dell'opera \"Fondazione di Asimov\" è stata infatti influenzata dalle avventure di E.E “Doc” Smith, Williamson, ed Edmond Hamilton.\n",
      "\n",
      " This passage explains the concept of having a galactic empire, arguing that it would require super-speeds that surpass the speed of light, an advanced system of governance over stars and civilizations, the development of a stellar diplomacy, and an understanding that the history of mankind exists on a universal plane rather than a planetary one.\n",
      "\n",
      "\n",
      "Brian W. Aldiss wrote an exemplary anthology called Imperi Galattici about stories involving galactic empires, which tend to suffer from logical fallacies but are beloved for their 'kolossal' Scope and for adventure. The Fondazione series is the most celebrated and possibly the most successful of this genre.\n",
      "\n",
      " Asimov's universe of sci-fi stands out for its complexity in the areas of politics, economics, diplomacy, and science, rather than its battles and monsters. His works invite the reader to explore plot lines threaded with tension and suspense.\n",
      "\n",
      " La trilogia della Fondazione di Isaac Asimov è stata descritta come un complicato gioco a Monopoli ricco di colpi di scena ed imprevisti che può essere paragonato alle battaglie politiche invece che quelle con armi, dando vita a una saga electta cerebrale che ha segnato l'Età d'Oro della fantascienza negli anni '40.\n",
      "\n",
      "\n",
      "In the years following the establishment of the \"sense of wonder\" in literature, readers developed a new appreciation for sophisticated, highly-elaborate ideas. Authors such as Asimov and Heinlein contributed to this new form of science fiction; in particular, Asimov's series \"The Foundation\" is widely considered one of the most satisfying sci-fi cycles of all time. Asimov's galactic empire was built upon various established premises such as faster-than-light speed, intergalactic civilizations, and universal history, as well as several of his own unique philosophies.\n",
      "\n",
      " In Foundation, Hari Seldon establishes foundations centuries ago in order to save the galaxy from chaos, populated by advanced scientists. Asimov's Psicostoria science isn't determinism, but rather based on laws of statistics. The behavior of an individual is unpredictable, but the collective behavior of large populations is more predictable.\n",
      "\n",
      "\n",
      "La psicostoria, una scienza immaginaria inventata da Asimov, è in grado di prevedere i movimenti di massa di un gruppo di individui e può contribuire a ridurre l'interregno tra il crollo del Primo Impero e l'avvento del Secondo, ma Asimov si diverte a contraddire le sue stesse idee, immaginando gli ostacoli che affronteranno le soluzioni.\n",
      "\n",
      " In Isaac Asimov's \"Fondazione\" novels, suspense and mystery are created by a being called Mulo, who has \"psi\" powers and threatens to disrupt the long effort of the Foundation. Asimov's work expands until the posthumous publication of \"Fondazione Anno Zero\", completing a cycle of work and tying up the story.\"\n",
      "\n",
      "\n",
      "CONCISE SUMMARY:\u001b[0m\n",
      "\n",
      "\u001b[1m> Finished chain.\u001b[0m\n",
      "\n",
      "\u001b[1m> Finished chain.\u001b[0m\n"
     ]
    }
   ],
   "source": [
    "from langchain.chains.summarize import load_summarize_chain\n",
    "from langchain.document_loaders import TextLoader\n",
    "from langchain.text_splitter import RecursiveCharacterTextSplitter\n",
    "\n",
    "loader = TextLoader('../documents/preface_fondazione_asimov.txt')\n",
    "documents = loader.load()\n",
    "\n",
    "# Prepara lo splitter\n",
    "text_splitter = RecursiveCharacterTextSplitter(chunk_size=700, chunk_overlap=50)\n",
    "\n",
    "# Dividi il documento in chunks\n",
    "texts = text_splitter.split_documents(documents)\n",
    "\n",
    "# Ci sta un po' di complessità in questa riga. Ti consiglio di guardare il video sopra per maggiori dettagli\n",
    "chain = load_summarize_chain(llm, chain_type=\"map_reduce\", verbose=True)\n",
    "res = chain.run(texts)"
   ]
  },
  {
   "cell_type": "code",
   "execution_count": 33,
   "metadata": {},
   "outputs": [
    {
     "name": "stdout",
     "output_type": "stream",
     "text": [
      "(' Isaac Asimov\\'s iconic \"Foundation\" series begins when the author visits '\n",
      " 'the Street & Smith publishing house and pitches a concept of a galactic '\n",
      " 'empire based on the Roman Empire to John Campbell, the editor of Astounding '\n",
      " 'Science Fiction. Asimov successfully sells several stories and chapters in '\n",
      " 'the series, such as The Big and the Little and Now You See It, until finally '\n",
      " 'it is published as a complete trilogies series. Award-winning and the most '\n",
      " 'popular of its genre in science fiction, Foundation has been celebrated for '\n",
      " 'its complex political, economic, diplomactic, and scientific facets. It '\n",
      " 'showcases components such as faster-than-light speed, intergalactic '\n",
      " 'civilizations, advanced Psicostoria science, and threats of a being '\n",
      " 'nicknamed the Mule.')\n"
     ]
    }
   ],
   "source": [
    "import pprint\n",
    "pprint.pprint(res)"
   ]
  }
 ],
 "metadata": {
  "kernelspec": {
   "display_name": "django_langchain_env",
   "language": "python",
   "name": "python3"
  },
  "language_info": {
   "codemirror_mode": {
    "name": "ipython",
    "version": 3
   },
   "file_extension": ".py",
   "mimetype": "text/x-python",
   "name": "python",
   "nbconvert_exporter": "python",
   "pygments_lexer": "ipython3",
   "version": "3.8.16"
  },
  "orig_nbformat": 4
 },
 "nbformat": 4,
 "nbformat_minor": 2
}
